{
 "cells": [
  {
   "cell_type": "markdown",
   "id": "dfd205cf-a347-43f8-8758-a936fd339085",
   "metadata": {},
   "source": [
    "# Dependencies"
   ]
  },
  {
   "cell_type": "code",
   "execution_count": 38,
   "id": "0dddbddc-ecb7-441c-bada-c8bb2cb74545",
   "metadata": {},
   "outputs": [],
   "source": [
    "import pandas as pd\n",
    "from sklearn.model_selection import train_test_split\n",
    "from sklearn.metrics import confusion_matrix, classification_report, accuracy_score"
   ]
  },
  {
   "cell_type": "markdown",
   "id": "fdf588d4-ff79-40e0-84fc-03dba43efafb",
   "metadata": {},
   "source": [
    "# Data Preprocesing for Logistic Regression"
   ]
  },
  {
   "cell_type": "code",
   "execution_count": 5,
   "id": "aaf666b5-597b-4155-8028-7b424fcc8f99",
   "metadata": {},
   "outputs": [],
   "source": [
    "# Read the scaled images into Jupyter Notebook and create DataFrame\n",
    "file_path = r'ENTER_YOUR_CSV_FILE_PATH_HERE'\n",
    "df = pd.read_csv(file_path)"
   ]
  },
  {
   "cell_type": "code",
   "execution_count": 6,
   "id": "9686a1dc-9c41-4c79-9f30-4e7e170cbe74",
   "metadata": {},
   "outputs": [
    {
     "data": {
      "text/plain": [
       "32022"
      ]
     },
     "execution_count": 6,
     "metadata": {},
     "output_type": "execute_result"
    }
   ],
   "source": [
    "# Confirm all images are listed in df\n",
    "len(df)"
   ]
  },
  {
   "cell_type": "code",
   "execution_count": 7,
   "id": "a37416bc-ed36-498f-861b-2198513a71d3",
   "metadata": {},
   "outputs": [
    {
     "data": {
      "text/html": [
       "<div>\n",
       "<style scoped>\n",
       "    .dataframe tbody tr th:only-of-type {\n",
       "        vertical-align: middle;\n",
       "    }\n",
       "\n",
       "    .dataframe tbody tr th {\n",
       "        vertical-align: top;\n",
       "    }\n",
       "\n",
       "    .dataframe thead th {\n",
       "        text-align: right;\n",
       "    }\n",
       "</style>\n",
       "<table border=\"1\" class=\"dataframe\">\n",
       "  <thead>\n",
       "    <tr style=\"text-align: right;\">\n",
       "      <th></th>\n",
       "      <th>0</th>\n",
       "      <th>1</th>\n",
       "      <th>2</th>\n",
       "      <th>3</th>\n",
       "      <th>4</th>\n",
       "      <th>5</th>\n",
       "      <th>6</th>\n",
       "      <th>7</th>\n",
       "      <th>8</th>\n",
       "      <th>9</th>\n",
       "      <th>...</th>\n",
       "      <th>2344</th>\n",
       "      <th>2345</th>\n",
       "      <th>2346</th>\n",
       "      <th>2347</th>\n",
       "      <th>2348</th>\n",
       "      <th>2349</th>\n",
       "      <th>2350</th>\n",
       "      <th>2351</th>\n",
       "      <th>label</th>\n",
       "      <th>healthy?</th>\n",
       "    </tr>\n",
       "  </thead>\n",
       "  <tbody>\n",
       "    <tr>\n",
       "      <th>0</th>\n",
       "      <td>0.613821</td>\n",
       "      <td>0.582329</td>\n",
       "      <td>0.584677</td>\n",
       "      <td>0.608871</td>\n",
       "      <td>0.575397</td>\n",
       "      <td>0.577689</td>\n",
       "      <td>0.610442</td>\n",
       "      <td>0.577075</td>\n",
       "      <td>0.579365</td>\n",
       "      <td>0.604839</td>\n",
       "      <td>...</td>\n",
       "      <td>0.423529</td>\n",
       "      <td>0.438735</td>\n",
       "      <td>0.448819</td>\n",
       "      <td>0.425197</td>\n",
       "      <td>0.434783</td>\n",
       "      <td>0.454902</td>\n",
       "      <td>0.431373</td>\n",
       "      <td>0.440945</td>\n",
       "      <td>Tomato_Bacterial_spot</td>\n",
       "      <td>0</td>\n",
       "    </tr>\n",
       "    <tr>\n",
       "      <th>1</th>\n",
       "      <td>0.491870</td>\n",
       "      <td>0.445783</td>\n",
       "      <td>0.443548</td>\n",
       "      <td>0.483871</td>\n",
       "      <td>0.436508</td>\n",
       "      <td>0.434263</td>\n",
       "      <td>0.489960</td>\n",
       "      <td>0.442688</td>\n",
       "      <td>0.440476</td>\n",
       "      <td>0.500000</td>\n",
       "      <td>...</td>\n",
       "      <td>0.639216</td>\n",
       "      <td>0.648221</td>\n",
       "      <td>0.657480</td>\n",
       "      <td>0.649606</td>\n",
       "      <td>0.656126</td>\n",
       "      <td>0.654902</td>\n",
       "      <td>0.647059</td>\n",
       "      <td>0.653543</td>\n",
       "      <td>Tomato_Bacterial_spot</td>\n",
       "      <td>0</td>\n",
       "    </tr>\n",
       "    <tr>\n",
       "      <th>2</th>\n",
       "      <td>0.479675</td>\n",
       "      <td>0.457831</td>\n",
       "      <td>0.447581</td>\n",
       "      <td>0.479839</td>\n",
       "      <td>0.456349</td>\n",
       "      <td>0.446215</td>\n",
       "      <td>0.469880</td>\n",
       "      <td>0.446640</td>\n",
       "      <td>0.436508</td>\n",
       "      <td>0.471774</td>\n",
       "      <td>...</td>\n",
       "      <td>0.643137</td>\n",
       "      <td>0.644269</td>\n",
       "      <td>0.641732</td>\n",
       "      <td>0.645669</td>\n",
       "      <td>0.652174</td>\n",
       "      <td>0.615686</td>\n",
       "      <td>0.619608</td>\n",
       "      <td>0.629921</td>\n",
       "      <td>Tomato_Bacterial_spot</td>\n",
       "      <td>0</td>\n",
       "    </tr>\n",
       "    <tr>\n",
       "      <th>3</th>\n",
       "      <td>0.650407</td>\n",
       "      <td>0.634538</td>\n",
       "      <td>0.641129</td>\n",
       "      <td>0.649194</td>\n",
       "      <td>0.630952</td>\n",
       "      <td>0.637450</td>\n",
       "      <td>0.634538</td>\n",
       "      <td>0.616601</td>\n",
       "      <td>0.623016</td>\n",
       "      <td>0.625000</td>\n",
       "      <td>...</td>\n",
       "      <td>0.498039</td>\n",
       "      <td>0.498024</td>\n",
       "      <td>0.500000</td>\n",
       "      <td>0.484252</td>\n",
       "      <td>0.486166</td>\n",
       "      <td>0.494118</td>\n",
       "      <td>0.478431</td>\n",
       "      <td>0.476378</td>\n",
       "      <td>Tomato_Bacterial_spot</td>\n",
       "      <td>0</td>\n",
       "    </tr>\n",
       "    <tr>\n",
       "      <th>4</th>\n",
       "      <td>0.682927</td>\n",
       "      <td>0.650602</td>\n",
       "      <td>0.653226</td>\n",
       "      <td>0.673387</td>\n",
       "      <td>0.638889</td>\n",
       "      <td>0.645418</td>\n",
       "      <td>0.670683</td>\n",
       "      <td>0.636364</td>\n",
       "      <td>0.646825</td>\n",
       "      <td>0.669355</td>\n",
       "      <td>...</td>\n",
       "      <td>0.400000</td>\n",
       "      <td>0.403162</td>\n",
       "      <td>0.444882</td>\n",
       "      <td>0.393701</td>\n",
       "      <td>0.395257</td>\n",
       "      <td>0.458824</td>\n",
       "      <td>0.411765</td>\n",
       "      <td>0.413386</td>\n",
       "      <td>Tomato_Bacterial_spot</td>\n",
       "      <td>0</td>\n",
       "    </tr>\n",
       "  </tbody>\n",
       "</table>\n",
       "<p>5 rows × 2354 columns</p>\n",
       "</div>"
      ],
      "text/plain": [
       "          0         1         2         3         4         5         6  \\\n",
       "0  0.613821  0.582329  0.584677  0.608871  0.575397  0.577689  0.610442   \n",
       "1  0.491870  0.445783  0.443548  0.483871  0.436508  0.434263  0.489960   \n",
       "2  0.479675  0.457831  0.447581  0.479839  0.456349  0.446215  0.469880   \n",
       "3  0.650407  0.634538  0.641129  0.649194  0.630952  0.637450  0.634538   \n",
       "4  0.682927  0.650602  0.653226  0.673387  0.638889  0.645418  0.670683   \n",
       "\n",
       "          7         8         9  ...      2344      2345      2346      2347  \\\n",
       "0  0.577075  0.579365  0.604839  ...  0.423529  0.438735  0.448819  0.425197   \n",
       "1  0.442688  0.440476  0.500000  ...  0.639216  0.648221  0.657480  0.649606   \n",
       "2  0.446640  0.436508  0.471774  ...  0.643137  0.644269  0.641732  0.645669   \n",
       "3  0.616601  0.623016  0.625000  ...  0.498039  0.498024  0.500000  0.484252   \n",
       "4  0.636364  0.646825  0.669355  ...  0.400000  0.403162  0.444882  0.393701   \n",
       "\n",
       "       2348      2349      2350      2351                  label  healthy?  \n",
       "0  0.434783  0.454902  0.431373  0.440945  Tomato_Bacterial_spot         0  \n",
       "1  0.656126  0.654902  0.647059  0.653543  Tomato_Bacterial_spot         0  \n",
       "2  0.652174  0.615686  0.619608  0.629921  Tomato_Bacterial_spot         0  \n",
       "3  0.486166  0.494118  0.478431  0.476378  Tomato_Bacterial_spot         0  \n",
       "4  0.395257  0.458824  0.411765  0.413386  Tomato_Bacterial_spot         0  \n",
       "\n",
       "[5 rows x 2354 columns]"
      ]
     },
     "execution_count": 7,
     "metadata": {},
     "output_type": "execute_result"
    }
   ],
   "source": [
    "# Define the list of healthy labels\n",
    "healthy_labels = ['Tomato_healthy']\n",
    "\n",
    "# Create the 'healthy?' column based on healthy labels\n",
    "df['healthy?'] = df['label'].isin(healthy_labels).astype(int)\n",
    "df.head()"
   ]
  },
  {
   "cell_type": "code",
   "execution_count": 8,
   "id": "d3236742-7cde-477c-9aad-89d9de145219",
   "metadata": {},
   "outputs": [
    {
     "data": {
      "text/html": [
       "<div>\n",
       "<style scoped>\n",
       "    .dataframe tbody tr th:only-of-type {\n",
       "        vertical-align: middle;\n",
       "    }\n",
       "\n",
       "    .dataframe tbody tr th {\n",
       "        vertical-align: top;\n",
       "    }\n",
       "\n",
       "    .dataframe thead th {\n",
       "        text-align: right;\n",
       "    }\n",
       "</style>\n",
       "<table border=\"1\" class=\"dataframe\">\n",
       "  <thead>\n",
       "    <tr style=\"text-align: right;\">\n",
       "      <th></th>\n",
       "      <th>0</th>\n",
       "      <th>1</th>\n",
       "      <th>2</th>\n",
       "      <th>3</th>\n",
       "      <th>4</th>\n",
       "      <th>5</th>\n",
       "      <th>6</th>\n",
       "      <th>7</th>\n",
       "      <th>8</th>\n",
       "      <th>9</th>\n",
       "      <th>...</th>\n",
       "      <th>2344</th>\n",
       "      <th>2345</th>\n",
       "      <th>2346</th>\n",
       "      <th>2347</th>\n",
       "      <th>2348</th>\n",
       "      <th>2349</th>\n",
       "      <th>2350</th>\n",
       "      <th>2351</th>\n",
       "      <th>label</th>\n",
       "      <th>healthy?</th>\n",
       "    </tr>\n",
       "  </thead>\n",
       "  <tbody>\n",
       "    <tr>\n",
       "      <th>3127</th>\n",
       "      <td>0.463415</td>\n",
       "      <td>0.449799</td>\n",
       "      <td>0.475806</td>\n",
       "      <td>0.447581</td>\n",
       "      <td>0.436508</td>\n",
       "      <td>0.462151</td>\n",
       "      <td>0.449799</td>\n",
       "      <td>0.438735</td>\n",
       "      <td>0.464286</td>\n",
       "      <td>0.471774</td>\n",
       "      <td>...</td>\n",
       "      <td>0.329412</td>\n",
       "      <td>0.367589</td>\n",
       "      <td>0.330709</td>\n",
       "      <td>0.334646</td>\n",
       "      <td>0.375494</td>\n",
       "      <td>0.317647</td>\n",
       "      <td>0.317647</td>\n",
       "      <td>0.358268</td>\n",
       "      <td>Tomato_healthy</td>\n",
       "      <td>1</td>\n",
       "    </tr>\n",
       "    <tr>\n",
       "      <th>3128</th>\n",
       "      <td>0.573171</td>\n",
       "      <td>0.542169</td>\n",
       "      <td>0.560484</td>\n",
       "      <td>0.572581</td>\n",
       "      <td>0.539683</td>\n",
       "      <td>0.557769</td>\n",
       "      <td>0.590361</td>\n",
       "      <td>0.557312</td>\n",
       "      <td>0.575397</td>\n",
       "      <td>0.588710</td>\n",
       "      <td>...</td>\n",
       "      <td>0.258824</td>\n",
       "      <td>0.276680</td>\n",
       "      <td>0.259843</td>\n",
       "      <td>0.263780</td>\n",
       "      <td>0.280632</td>\n",
       "      <td>0.254902</td>\n",
       "      <td>0.258824</td>\n",
       "      <td>0.275591</td>\n",
       "      <td>Tomato_healthy</td>\n",
       "      <td>1</td>\n",
       "    </tr>\n",
       "    <tr>\n",
       "      <th>3129</th>\n",
       "      <td>0.516260</td>\n",
       "      <td>0.477912</td>\n",
       "      <td>0.532258</td>\n",
       "      <td>0.508065</td>\n",
       "      <td>0.468254</td>\n",
       "      <td>0.533865</td>\n",
       "      <td>0.497992</td>\n",
       "      <td>0.462451</td>\n",
       "      <td>0.523810</td>\n",
       "      <td>0.495968</td>\n",
       "      <td>...</td>\n",
       "      <td>0.603922</td>\n",
       "      <td>0.667984</td>\n",
       "      <td>0.645669</td>\n",
       "      <td>0.622047</td>\n",
       "      <td>0.671937</td>\n",
       "      <td>0.631373</td>\n",
       "      <td>0.607843</td>\n",
       "      <td>0.657480</td>\n",
       "      <td>Tomato_healthy</td>\n",
       "      <td>1</td>\n",
       "    </tr>\n",
       "    <tr>\n",
       "      <th>3130</th>\n",
       "      <td>0.467480</td>\n",
       "      <td>0.433735</td>\n",
       "      <td>0.500000</td>\n",
       "      <td>0.463710</td>\n",
       "      <td>0.424603</td>\n",
       "      <td>0.494024</td>\n",
       "      <td>0.453815</td>\n",
       "      <td>0.411067</td>\n",
       "      <td>0.480159</td>\n",
       "      <td>0.447581</td>\n",
       "      <td>...</td>\n",
       "      <td>0.639216</td>\n",
       "      <td>0.699605</td>\n",
       "      <td>0.649606</td>\n",
       "      <td>0.641732</td>\n",
       "      <td>0.699605</td>\n",
       "      <td>0.658824</td>\n",
       "      <td>0.650980</td>\n",
       "      <td>0.708661</td>\n",
       "      <td>Tomato_healthy</td>\n",
       "      <td>1</td>\n",
       "    </tr>\n",
       "    <tr>\n",
       "      <th>3131</th>\n",
       "      <td>0.642276</td>\n",
       "      <td>0.606426</td>\n",
       "      <td>0.641129</td>\n",
       "      <td>0.633065</td>\n",
       "      <td>0.595238</td>\n",
       "      <td>0.629482</td>\n",
       "      <td>0.598394</td>\n",
       "      <td>0.561265</td>\n",
       "      <td>0.595238</td>\n",
       "      <td>0.592742</td>\n",
       "      <td>...</td>\n",
       "      <td>0.419608</td>\n",
       "      <td>0.478261</td>\n",
       "      <td>0.476378</td>\n",
       "      <td>0.429134</td>\n",
       "      <td>0.486166</td>\n",
       "      <td>0.494118</td>\n",
       "      <td>0.447059</td>\n",
       "      <td>0.507874</td>\n",
       "      <td>Tomato_healthy</td>\n",
       "      <td>1</td>\n",
       "    </tr>\n",
       "  </tbody>\n",
       "</table>\n",
       "<p>5 rows × 2354 columns</p>\n",
       "</div>"
      ],
      "text/plain": [
       "             0         1         2         3         4         5         6  \\\n",
       "3127  0.463415  0.449799  0.475806  0.447581  0.436508  0.462151  0.449799   \n",
       "3128  0.573171  0.542169  0.560484  0.572581  0.539683  0.557769  0.590361   \n",
       "3129  0.516260  0.477912  0.532258  0.508065  0.468254  0.533865  0.497992   \n",
       "3130  0.467480  0.433735  0.500000  0.463710  0.424603  0.494024  0.453815   \n",
       "3131  0.642276  0.606426  0.641129  0.633065  0.595238  0.629482  0.598394   \n",
       "\n",
       "             7         8         9  ...      2344      2345      2346  \\\n",
       "3127  0.438735  0.464286  0.471774  ...  0.329412  0.367589  0.330709   \n",
       "3128  0.557312  0.575397  0.588710  ...  0.258824  0.276680  0.259843   \n",
       "3129  0.462451  0.523810  0.495968  ...  0.603922  0.667984  0.645669   \n",
       "3130  0.411067  0.480159  0.447581  ...  0.639216  0.699605  0.649606   \n",
       "3131  0.561265  0.595238  0.592742  ...  0.419608  0.478261  0.476378   \n",
       "\n",
       "          2347      2348      2349      2350      2351           label  \\\n",
       "3127  0.334646  0.375494  0.317647  0.317647  0.358268  Tomato_healthy   \n",
       "3128  0.263780  0.280632  0.254902  0.258824  0.275591  Tomato_healthy   \n",
       "3129  0.622047  0.671937  0.631373  0.607843  0.657480  Tomato_healthy   \n",
       "3130  0.641732  0.699605  0.658824  0.650980  0.708661  Tomato_healthy   \n",
       "3131  0.429134  0.486166  0.494118  0.447059  0.507874  Tomato_healthy   \n",
       "\n",
       "      healthy?  \n",
       "3127         1  \n",
       "3128         1  \n",
       "3129         1  \n",
       "3130         1  \n",
       "3131         1  \n",
       "\n",
       "[5 rows x 2354 columns]"
      ]
     },
     "execution_count": 8,
     "metadata": {},
     "output_type": "execute_result"
    }
   ],
   "source": [
    "# Confirm binary value is correct\n",
    "df.loc[df['label'] == 'Tomato_healthy'].head(5)"
   ]
  },
  {
   "cell_type": "code",
   "execution_count": 9,
   "id": "a5318426-050a-4473-b37e-a0941e0845a6",
   "metadata": {},
   "outputs": [],
   "source": [
    "# Save new CSV file with binary healthy / not healthy column\n",
    "file_path = r'ENTER_YOUR_CSV_FILE_PATH_HERE'\n",
    "df.to_csv(file_path, index=False)"
   ]
  },
  {
   "cell_type": "markdown",
   "id": "f31d8a3a-65bf-41a9-ae82-5c74b0c7d0a7",
   "metadata": {},
   "source": [
    "# Fit Model and Make Predictions"
   ]
  },
  {
   "cell_type": "code",
   "execution_count": 39,
   "id": "28f886de-87d1-49b2-9f08-5e546685df97",
   "metadata": {},
   "outputs": [],
   "source": [
    "# Read the scaled images into Jupyter Notebook and create DataFrame\n",
    "file_path = r'ENTER YOUR FILE PATH HERE'\n",
    "df = pd.read_csv(file_path)"
   ]
  },
  {
   "cell_type": "code",
   "execution_count": 40,
   "id": "fd5ed3ea-a383-4ab3-a3b5-65c56fc7e901",
   "metadata": {},
   "outputs": [],
   "source": [
    "# Remove label for logistic regression model\n",
    "df = df.drop('label', axis=1)"
   ]
  },
  {
   "cell_type": "code",
   "execution_count": 41,
   "id": "26cf619d-b2b6-4798-b91d-1f39caeaa484",
   "metadata": {},
   "outputs": [],
   "source": [
    "# Separate features and labels\n",
    "X = df.drop('healthy?', axis=1).values\n",
    "y = df['healthy?'].values "
   ]
  },
  {
   "cell_type": "code",
   "execution_count": 42,
   "id": "3c5f34db-998e-44ea-b73c-52371a71e819",
   "metadata": {},
   "outputs": [],
   "source": [
    "# Split the data into training and testing sets\n",
    "X_train, X_test, y_train, y_test = train_test_split(X, y, random_state=42)"
   ]
  },
  {
   "cell_type": "code",
   "execution_count": 43,
   "id": "6f6f4205-7a16-4559-95f4-73c054865649",
   "metadata": {},
   "outputs": [
    {
     "data": {
      "text/html": [
       "<style>#sk-container-id-2 {color: black;}#sk-container-id-2 pre{padding: 0;}#sk-container-id-2 div.sk-toggleable {background-color: white;}#sk-container-id-2 label.sk-toggleable__label {cursor: pointer;display: block;width: 100%;margin-bottom: 0;padding: 0.3em;box-sizing: border-box;text-align: center;}#sk-container-id-2 label.sk-toggleable__label-arrow:before {content: \"▸\";float: left;margin-right: 0.25em;color: #696969;}#sk-container-id-2 label.sk-toggleable__label-arrow:hover:before {color: black;}#sk-container-id-2 div.sk-estimator:hover label.sk-toggleable__label-arrow:before {color: black;}#sk-container-id-2 div.sk-toggleable__content {max-height: 0;max-width: 0;overflow: hidden;text-align: left;background-color: #f0f8ff;}#sk-container-id-2 div.sk-toggleable__content pre {margin: 0.2em;color: black;border-radius: 0.25em;background-color: #f0f8ff;}#sk-container-id-2 input.sk-toggleable__control:checked~div.sk-toggleable__content {max-height: 200px;max-width: 100%;overflow: auto;}#sk-container-id-2 input.sk-toggleable__control:checked~label.sk-toggleable__label-arrow:before {content: \"▾\";}#sk-container-id-2 div.sk-estimator input.sk-toggleable__control:checked~label.sk-toggleable__label {background-color: #d4ebff;}#sk-container-id-2 div.sk-label input.sk-toggleable__control:checked~label.sk-toggleable__label {background-color: #d4ebff;}#sk-container-id-2 input.sk-hidden--visually {border: 0;clip: rect(1px 1px 1px 1px);clip: rect(1px, 1px, 1px, 1px);height: 1px;margin: -1px;overflow: hidden;padding: 0;position: absolute;width: 1px;}#sk-container-id-2 div.sk-estimator {font-family: monospace;background-color: #f0f8ff;border: 1px dotted black;border-radius: 0.25em;box-sizing: border-box;margin-bottom: 0.5em;}#sk-container-id-2 div.sk-estimator:hover {background-color: #d4ebff;}#sk-container-id-2 div.sk-parallel-item::after {content: \"\";width: 100%;border-bottom: 1px solid gray;flex-grow: 1;}#sk-container-id-2 div.sk-label:hover label.sk-toggleable__label {background-color: #d4ebff;}#sk-container-id-2 div.sk-serial::before {content: \"\";position: absolute;border-left: 1px solid gray;box-sizing: border-box;top: 0;bottom: 0;left: 50%;z-index: 0;}#sk-container-id-2 div.sk-serial {display: flex;flex-direction: column;align-items: center;background-color: white;padding-right: 0.2em;padding-left: 0.2em;position: relative;}#sk-container-id-2 div.sk-item {position: relative;z-index: 1;}#sk-container-id-2 div.sk-parallel {display: flex;align-items: stretch;justify-content: center;background-color: white;position: relative;}#sk-container-id-2 div.sk-item::before, #sk-container-id-2 div.sk-parallel-item::before {content: \"\";position: absolute;border-left: 1px solid gray;box-sizing: border-box;top: 0;bottom: 0;left: 50%;z-index: -1;}#sk-container-id-2 div.sk-parallel-item {display: flex;flex-direction: column;z-index: 1;position: relative;background-color: white;}#sk-container-id-2 div.sk-parallel-item:first-child::after {align-self: flex-end;width: 50%;}#sk-container-id-2 div.sk-parallel-item:last-child::after {align-self: flex-start;width: 50%;}#sk-container-id-2 div.sk-parallel-item:only-child::after {width: 0;}#sk-container-id-2 div.sk-dashed-wrapped {border: 1px dashed gray;margin: 0 0.4em 0.5em 0.4em;box-sizing: border-box;padding-bottom: 0.4em;background-color: white;}#sk-container-id-2 div.sk-label label {font-family: monospace;font-weight: bold;display: inline-block;line-height: 1.2em;}#sk-container-id-2 div.sk-label-container {text-align: center;}#sk-container-id-2 div.sk-container {/* jupyter's `normalize.less` sets `[hidden] { display: none; }` but bootstrap.min.css set `[hidden] { display: none !important; }` so we also need the `!important` here to be able to override the default hidden behavior on the sphinx rendered scikit-learn.org. See: https://github.com/scikit-learn/scikit-learn/issues/21755 */display: inline-block !important;position: relative;}#sk-container-id-2 div.sk-text-repr-fallback {display: none;}</style><div id=\"sk-container-id-2\" class=\"sk-top-container\"><div class=\"sk-text-repr-fallback\"><pre>LogisticRegression(max_iter=2000, random_state=1)</pre><b>In a Jupyter environment, please rerun this cell to show the HTML representation or trust the notebook. <br />On GitHub, the HTML representation is unable to render, please try loading this page with nbviewer.org.</b></div><div class=\"sk-container\" hidden><div class=\"sk-item\"><div class=\"sk-estimator sk-toggleable\"><input class=\"sk-toggleable__control sk-hidden--visually\" id=\"sk-estimator-id-2\" type=\"checkbox\" checked><label for=\"sk-estimator-id-2\" class=\"sk-toggleable__label sk-toggleable__label-arrow\">LogisticRegression</label><div class=\"sk-toggleable__content\"><pre>LogisticRegression(max_iter=2000, random_state=1)</pre></div></div></div></div></div>"
      ],
      "text/plain": [
       "LogisticRegression(max_iter=2000, random_state=1)"
      ]
     },
     "execution_count": 43,
     "metadata": {},
     "output_type": "execute_result"
    }
   ],
   "source": [
    "# Import the LogisticRegression module from SKLearn\n",
    "from sklearn.linear_model import LogisticRegression\n",
    "\n",
    "# Create model\n",
    "model = LogisticRegression(random_state=1,  max_iter=2000)\n",
    "model"
   ]
  },
  {
   "cell_type": "code",
   "execution_count": 44,
   "id": "21c4f347-e9eb-408f-a681-848780fce291",
   "metadata": {},
   "outputs": [],
   "source": [
    "# Fit the model using training data\n",
    "logreg = model.fit(X_train, y_train)"
   ]
  },
  {
   "cell_type": "code",
   "execution_count": 45,
   "id": "57cb2e22-f2fa-4530-9544-15e1deed4780",
   "metadata": {},
   "outputs": [],
   "source": [
    "# Make a prediction using test data\n",
    "predictions = logreg.predict(X_test)"
   ]
  },
  {
   "cell_type": "code",
   "execution_count": 46,
   "id": "4b50fa43-a46b-4be2-9de9-59f36fca2804",
   "metadata": {},
   "outputs": [
    {
     "data": {
      "text/html": [
       "<div>\n",
       "<style scoped>\n",
       "    .dataframe tbody tr th:only-of-type {\n",
       "        vertical-align: middle;\n",
       "    }\n",
       "\n",
       "    .dataframe tbody tr th {\n",
       "        vertical-align: top;\n",
       "    }\n",
       "\n",
       "    .dataframe thead th {\n",
       "        text-align: right;\n",
       "    }\n",
       "</style>\n",
       "<table border=\"1\" class=\"dataframe\">\n",
       "  <thead>\n",
       "    <tr style=\"text-align: right;\">\n",
       "      <th></th>\n",
       "      <th>Predicted Unhealthy</th>\n",
       "      <th>Predicted Healthy</th>\n",
       "    </tr>\n",
       "  </thead>\n",
       "  <tbody>\n",
       "    <tr>\n",
       "      <th>Actual Unhealthy</th>\n",
       "      <td>7110</td>\n",
       "      <td>119</td>\n",
       "    </tr>\n",
       "    <tr>\n",
       "      <th>Actual Healthy</th>\n",
       "      <td>277</td>\n",
       "      <td>500</td>\n",
       "    </tr>\n",
       "  </tbody>\n",
       "</table>\n",
       "</div>"
      ],
      "text/plain": [
       "                  Predicted Unhealthy  Predicted Healthy\n",
       "Actual Unhealthy                 7110                119\n",
       "Actual Healthy                    277                500"
      ]
     },
     "execution_count": 46,
     "metadata": {},
     "output_type": "execute_result"
    }
   ],
   "source": [
    "# Generate a confusion matrix for the model\n",
    "matrix = confusion_matrix(y_test, predictions)\n",
    "matrix = pd.DataFrame(matrix,\n",
    "                     index = ['Actual Unhealthy', 'Actual Healthy'],\n",
    "                     columns = ['Predicted Unhealthy', 'Predicted Healthy'])\n",
    "matrix"
   ]
  },
  {
   "cell_type": "code",
   "execution_count": 47,
   "id": "85f85a47-fc65-4b0d-99b0-7ae3cf4ebdd1",
   "metadata": {},
   "outputs": [
    {
     "data": {
      "image/png": "[encoded data removed]",
      "text/plain": [
       "<Figure size 300x100 with 1 Axes>"
      ]
     },
     "metadata": {},
     "output_type": "display_data"
    }
   ],
   "source": [
    "#Export confusion matrix to chart visual\n",
    "import matplotlib.pyplot as plt\n",
    "\n",
    "fig, ax = plt.subplots(figsize=(3, 1))\n",
    "ax.axis('off')\n",
    "ax.text(0.5, 0.5, matrix, fontsize=15, ha='center', va='center')\n",
    "plt.savefig('..\\Output\\confusion_matrix_text.png',  dpi=300, bbox_inches='tight')\n",
    "plt.show()"
   ]
  },
  {
   "cell_type": "code",
   "execution_count": 48,
   "id": "88f1af63-e4ab-428f-ab59-4b8dc475abe3",
   "metadata": {},
   "outputs": [
    {
     "data": {
      "image/png": "[encoded data removed]",
      "text/plain": [
       "<Figure size 800x600 with 1 Axes>"
      ]
     },
     "metadata": {},
     "output_type": "display_data"
    }
   ],
   "source": [
    "# Visualize confusion matrix\n",
    "import seaborn as sns\n",
    "\n",
    "plt.figure(figsize=(8, 6))\n",
    "sns.heatmap(matrix, annot=True, fmt='d', cmap='Greens', cbar=False)\n",
    "plt.title('Confusion Matrix')\n",
    "plt.savefig('..\\Output\\confusion_matrix.png',  dpi=300, bbox_inches='tight')\n",
    "plt.show()"
   ]
  },
  {
   "cell_type": "code",
   "execution_count": 49,
   "id": "9377c0d5-99d4-435e-9401-d04a891bab1d",
   "metadata": {},
   "outputs": [
    {
     "name": "stdout",
     "output_type": "stream",
     "text": [
      "               precision    recall  f1-score   support\n",
      "\n",
      "Unhealthy (0)       0.96      0.98      0.97      7229\n",
      "  Healthy (1)       0.81      0.64      0.72       777\n",
      "\n",
      "     accuracy                           0.95      8006\n",
      "    macro avg       0.89      0.81      0.84      8006\n",
      " weighted avg       0.95      0.95      0.95      8006\n",
      "\n"
     ]
    }
   ],
   "source": [
    "# Print the classification report for the model\n",
    "target_names  = [\"Unhealthy (0)\", \"Healthy (1)\"]\n",
    "report = classification_report(y_test, predictions, target_names  = target_names)\n",
    "\n",
    "# Print the training classification report\n",
    "print(report)"
   ]
  },
  {
   "cell_type": "code",
   "execution_count": 50,
   "id": "d8daf679-1307-41e0-9170-1353c9c18e4e",
   "metadata": {},
   "outputs": [
    {
     "data": {
      "image/png": "[encoded data removed]",
      "text/plain": [
       "<Figure size 600x300 with 1 Axes>"
      ]
     },
     "metadata": {},
     "output_type": "display_data"
    }
   ],
   "source": [
    "# Visualize classification report\n",
    "fig, ax = plt.subplots(figsize=(6, 3))\n",
    "ax.axis('off')\n",
    "ax.text(0.5, 0.5, report, fontsize=15, ha='center', va='center')\n",
    "plt.savefig('..\\Output\\classification_report.png',  dpi=300, bbox_inches='tight')\n",
    "plt.show()"
   ]
  },
  {
   "cell_type": "code",
   "execution_count": null,
   "id": "fb3c4e84-2de5-40ac-ba5f-606cf0007bbb",
   "metadata": {},
   "outputs": [],
   "source": []
  }
 ],
 "metadata": {
  "kernelspec": {
   "display_name": "Python 3 (ipykernel)",
   "language": "python",
   "name": "python3"
  },
  "language_info": {
   "codemirror_mode": {
    "name": "ipython",
    "version": 3
   },
   "file_extension": ".py",
   "mimetype": "text/x-python",
   "name": "python",
   "nbconvert_exporter": "python",
   "pygments_lexer": "ipython3",
   "version": "3.10.13"
  }
 },
 "nbformat": 4,
 "nbformat_minor": 5
}
