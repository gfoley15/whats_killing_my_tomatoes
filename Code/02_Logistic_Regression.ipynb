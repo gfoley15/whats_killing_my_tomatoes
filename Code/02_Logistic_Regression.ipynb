{
 "cells": [
  {
   "cell_type": "markdown",
   "id": "dfd205cf-a347-43f8-8758-a936fd339085",
   "metadata": {},
   "source": [
    "# Dependencies"
   ]
  },
  {
   "cell_type": "code",
   "execution_count": 1,
   "id": "0dddbddc-ecb7-441c-bada-c8bb2cb74545",
   "metadata": {},
   "outputs": [],
   "source": [
    "import pandas as pd\n",
    "from sklearn.model_selection import train_test_split\n",
    "from sklearn.metrics import confusion_matrix, classification_report, accuracy_score"
   ]
  },
  {
   "cell_type": "markdown",
   "id": "fdf588d4-ff79-40e0-84fc-03dba43efafb",
   "metadata": {},
   "source": [
    "# Data Preprocesing for Logistic Regression"
   ]
  },
  {
   "cell_type": "code",
   "execution_count": null,
   "id": "aaf666b5-597b-4155-8028-7b424fcc8f99",
   "metadata": {},
   "outputs": [],
   "source": [
    "# Read the scaled images into Jupyter Notebook and create DataFrame\n",
    "file_path = r'ENTER YOUR FILE PATH HERE'\n",
    "df = pd.read_csv(file_path)"
   ]
  },
  {
   "cell_type": "code",
   "execution_count": null,
   "id": "9686a1dc-9c41-4c79-9f30-4e7e170cbe74",
   "metadata": {},
   "outputs": [],
   "source": [
    "# Confirm all images are listed in df\n",
    "len(df)"
   ]
  },
  {
   "cell_type": "code",
   "execution_count": null,
   "id": "a37416bc-ed36-498f-861b-2198513a71d3",
   "metadata": {},
   "outputs": [],
   "source": [
    "# Define the list of healthy labels\n",
    "healthy_labels = ['Tomato_healthy', 'Potato___healthy', 'Pepper__bell___healthy']\n",
    "\n",
    "# Create the 'healthy?' column based on healthy labels\n",
    "df['healthy?'] = df['label'].isin(healthy_labels).astype(int)\n",
    "df.head()"
   ]
  },
  {
   "cell_type": "code",
   "execution_count": null,
   "id": "d3236742-7cde-477c-9aad-89d9de145219",
   "metadata": {},
   "outputs": [],
   "source": [
    "# Confirm binary value is correct\n",
    "df.loc[df['label'] == 'Tomato_healthy'].head(5)"
   ]
  },
  {
   "cell_type": "code",
   "execution_count": null,
   "id": "cb578cae-04f2-43cf-8a47-2df9e148f78f",
   "metadata": {},
   "outputs": [],
   "source": [
    "# Confirm binary value is correct\n",
    "df.loc[df['label'] == 'Potato___healthy'].head(5)"
   ]
  },
  {
   "cell_type": "code",
   "execution_count": null,
   "id": "3dea5bea-a27b-4a4b-bace-6f9af1a03101",
   "metadata": {},
   "outputs": [],
   "source": [
    "# Confirm binary value is correct\n",
    "df.loc[df['label'] == 'Pepper__bell___healthy'].head(5)"
   ]
  },
  {
   "cell_type": "code",
   "execution_count": null,
   "id": "a5318426-050a-4473-b37e-a0941e0845a6",
   "metadata": {},
   "outputs": [],
   "source": [
    "# Save new CSV file with binary healthy / not healthy column\n",
    "file_path = r'ENTER YOUR FILE PATH HERE'\n",
    "df.to_csv(file_path, index=False)"
   ]
  },
  {
   "cell_type": "markdown",
   "id": "f31d8a3a-65bf-41a9-ae82-5c74b0c7d0a7",
   "metadata": {},
   "source": [
    "# Fit Model and Make Predictions"
   ]
  },
  {
   "cell_type": "code",
   "execution_count": 2,
   "id": "28f886de-87d1-49b2-9f08-5e546685df97",
   "metadata": {},
   "outputs": [],
   "source": [
    "# Read the scaled images into Jupyter Notebook and create DataFrame\n",
    "file_path = r'ENTER YOUR FILE PATH HERE'\n",
    "df = pd.read_csv(file_path)"
   ]
  },
  {
   "cell_type": "code",
   "execution_count": 3,
   "id": "fd5ed3ea-a383-4ab3-a3b5-65c56fc7e901",
   "metadata": {},
   "outputs": [],
   "source": [
    "# Remove label for logistic regression model\n",
    "df = df.drop('label', axis=1)"
   ]
  },
  {
   "cell_type": "code",
   "execution_count": 4,
   "id": "26cf619d-b2b6-4798-b91d-1f39caeaa484",
   "metadata": {},
   "outputs": [],
   "source": [
    "# Separate features and labels\n",
    "X = df.drop('healthy?', axis=1).values\n",
    "y = df['healthy?'].values "
   ]
  },
  {
   "cell_type": "code",
   "execution_count": 5,
   "id": "3c5f34db-998e-44ea-b73c-52371a71e819",
   "metadata": {},
   "outputs": [],
   "source": [
    "# Split the data into training and testing sets\n",
    "X_train, X_test, y_train, y_test = train_test_split(X, y, random_state=42)"
   ]
  },
  {
   "cell_type": "code",
   "execution_count": 6,
   "id": "6f6f4205-7a16-4559-95f4-73c054865649",
   "metadata": {},
   "outputs": [
    {
     "data": {
      "text/html": [
       "<style>#sk-container-id-1 {color: black;}#sk-container-id-1 pre{padding: 0;}#sk-container-id-1 div.sk-toggleable {background-color: white;}#sk-container-id-1 label.sk-toggleable__label {cursor: pointer;display: block;width: 100%;margin-bottom: 0;padding: 0.3em;box-sizing: border-box;text-align: center;}#sk-container-id-1 label.sk-toggleable__label-arrow:before {content: \"▸\";float: left;margin-right: 0.25em;color: #696969;}#sk-container-id-1 label.sk-toggleable__label-arrow:hover:before {color: black;}#sk-container-id-1 div.sk-estimator:hover label.sk-toggleable__label-arrow:before {color: black;}#sk-container-id-1 div.sk-toggleable__content {max-height: 0;max-width: 0;overflow: hidden;text-align: left;background-color: #f0f8ff;}#sk-container-id-1 div.sk-toggleable__content pre {margin: 0.2em;color: black;border-radius: 0.25em;background-color: #f0f8ff;}#sk-container-id-1 input.sk-toggleable__control:checked~div.sk-toggleable__content {max-height: 200px;max-width: 100%;overflow: auto;}#sk-container-id-1 input.sk-toggleable__control:checked~label.sk-toggleable__label-arrow:before {content: \"▾\";}#sk-container-id-1 div.sk-estimator input.sk-toggleable__control:checked~label.sk-toggleable__label {background-color: #d4ebff;}#sk-container-id-1 div.sk-label input.sk-toggleable__control:checked~label.sk-toggleable__label {background-color: #d4ebff;}#sk-container-id-1 input.sk-hidden--visually {border: 0;clip: rect(1px 1px 1px 1px);clip: rect(1px, 1px, 1px, 1px);height: 1px;margin: -1px;overflow: hidden;padding: 0;position: absolute;width: 1px;}#sk-container-id-1 div.sk-estimator {font-family: monospace;background-color: #f0f8ff;border: 1px dotted black;border-radius: 0.25em;box-sizing: border-box;margin-bottom: 0.5em;}#sk-container-id-1 div.sk-estimator:hover {background-color: #d4ebff;}#sk-container-id-1 div.sk-parallel-item::after {content: \"\";width: 100%;border-bottom: 1px solid gray;flex-grow: 1;}#sk-container-id-1 div.sk-label:hover label.sk-toggleable__label {background-color: #d4ebff;}#sk-container-id-1 div.sk-serial::before {content: \"\";position: absolute;border-left: 1px solid gray;box-sizing: border-box;top: 0;bottom: 0;left: 50%;z-index: 0;}#sk-container-id-1 div.sk-serial {display: flex;flex-direction: column;align-items: center;background-color: white;padding-right: 0.2em;padding-left: 0.2em;position: relative;}#sk-container-id-1 div.sk-item {position: relative;z-index: 1;}#sk-container-id-1 div.sk-parallel {display: flex;align-items: stretch;justify-content: center;background-color: white;position: relative;}#sk-container-id-1 div.sk-item::before, #sk-container-id-1 div.sk-parallel-item::before {content: \"\";position: absolute;border-left: 1px solid gray;box-sizing: border-box;top: 0;bottom: 0;left: 50%;z-index: -1;}#sk-container-id-1 div.sk-parallel-item {display: flex;flex-direction: column;z-index: 1;position: relative;background-color: white;}#sk-container-id-1 div.sk-parallel-item:first-child::after {align-self: flex-end;width: 50%;}#sk-container-id-1 div.sk-parallel-item:last-child::after {align-self: flex-start;width: 50%;}#sk-container-id-1 div.sk-parallel-item:only-child::after {width: 0;}#sk-container-id-1 div.sk-dashed-wrapped {border: 1px dashed gray;margin: 0 0.4em 0.5em 0.4em;box-sizing: border-box;padding-bottom: 0.4em;background-color: white;}#sk-container-id-1 div.sk-label label {font-family: monospace;font-weight: bold;display: inline-block;line-height: 1.2em;}#sk-container-id-1 div.sk-label-container {text-align: center;}#sk-container-id-1 div.sk-container {/* jupyter's `normalize.less` sets `[hidden] { display: none; }` but bootstrap.min.css set `[hidden] { display: none !important; }` so we also need the `!important` here to be able to override the default hidden behavior on the sphinx rendered scikit-learn.org. See: https://github.com/scikit-learn/scikit-learn/issues/21755 */display: inline-block !important;position: relative;}#sk-container-id-1 div.sk-text-repr-fallback {display: none;}</style><div id=\"sk-container-id-1\" class=\"sk-top-container\"><div class=\"sk-text-repr-fallback\"><pre>LogisticRegression(max_iter=2000, random_state=1)</pre><b>In a Jupyter environment, please rerun this cell to show the HTML representation or trust the notebook. <br />On GitHub, the HTML representation is unable to render, please try loading this page with nbviewer.org.</b></div><div class=\"sk-container\" hidden><div class=\"sk-item\"><div class=\"sk-estimator sk-toggleable\"><input class=\"sk-toggleable__control sk-hidden--visually\" id=\"sk-estimator-id-1\" type=\"checkbox\" checked><label for=\"sk-estimator-id-1\" class=\"sk-toggleable__label sk-toggleable__label-arrow\">LogisticRegression</label><div class=\"sk-toggleable__content\"><pre>LogisticRegression(max_iter=2000, random_state=1)</pre></div></div></div></div></div>"
      ],
      "text/plain": [
       "LogisticRegression(max_iter=2000, random_state=1)"
      ]
     },
     "execution_count": 6,
     "metadata": {},
     "output_type": "execute_result"
    }
   ],
   "source": [
    "# Import the LogisticRegression module from SKLearn\n",
    "from sklearn.linear_model import LogisticRegression\n",
    "\n",
    "# Create model\n",
    "model = LogisticRegression(random_state=1,  max_iter=2000)\n",
    "model"
   ]
  },
  {
   "cell_type": "code",
   "execution_count": 7,
   "id": "21c4f347-e9eb-408f-a681-848780fce291",
   "metadata": {},
   "outputs": [],
   "source": [
    "# Fit the model using training data\n",
    "logreg = model.fit(X_train, y_train)"
   ]
  },
  {
   "cell_type": "code",
   "execution_count": 8,
   "id": "57cb2e22-f2fa-4530-9544-15e1deed4780",
   "metadata": {},
   "outputs": [],
   "source": [
    "# Make a prediction using test data\n",
    "predictions = logreg.predict(X_test)"
   ]
  },
  {
   "cell_type": "code",
   "execution_count": 11,
   "id": "4b50fa43-a46b-4be2-9de9-59f36fca2804",
   "metadata": {},
   "outputs": [
    {
     "data": {
      "text/html": [
       "<div>\n",
       "<style scoped>\n",
       "    .dataframe tbody tr th:only-of-type {\n",
       "        vertical-align: middle;\n",
       "    }\n",
       "\n",
       "    .dataframe tbody tr th {\n",
       "        vertical-align: top;\n",
       "    }\n",
       "\n",
       "    .dataframe thead th {\n",
       "        text-align: right;\n",
       "    }\n",
       "</style>\n",
       "<table border=\"1\" class=\"dataframe\">\n",
       "  <thead>\n",
       "    <tr style=\"text-align: right;\">\n",
       "      <th></th>\n",
       "      <th>Predicted Unhealthy</th>\n",
       "      <th>Predict Healthy</th>\n",
       "    </tr>\n",
       "  </thead>\n",
       "  <tbody>\n",
       "    <tr>\n",
       "      <th>Actual Unhealthy</th>\n",
       "      <td>8419</td>\n",
       "      <td>301</td>\n",
       "    </tr>\n",
       "    <tr>\n",
       "      <th>Actual Healthy</th>\n",
       "      <td>554</td>\n",
       "      <td>1045</td>\n",
       "    </tr>\n",
       "  </tbody>\n",
       "</table>\n",
       "</div>"
      ],
      "text/plain": [
       "                  Predicted Unhealthy  Predict Healthy\n",
       "Actual Unhealthy                 8419              301\n",
       "Actual Healthy                    554             1045"
      ]
     },
     "execution_count": 11,
     "metadata": {},
     "output_type": "execute_result"
    }
   ],
   "source": [
    "# Generate a confusion matrix for the model\n",
    "matrix = confusion_matrix(y_test, predictions)\n",
    "matrix = pd.DataFrame(matrix,\n",
    "                     index = ['Actual Unhealthy', 'Actual Healthy'],\n",
    "                     columns = ['Predicted Unhealthy', 'Predict Healthy'])\n",
    "matrix"
   ]
  },
  {
   "cell_type": "code",
   "execution_count": 12,
   "id": "9377c0d5-99d4-435e-9401-d04a891bab1d",
   "metadata": {},
   "outputs": [
    {
     "name": "stdout",
     "output_type": "stream",
     "text": [
      "               precision    recall  f1-score   support\n",
      "\n",
      "Unhealthy (0)       0.94      0.97      0.95      8720\n",
      "  Healthy (1)       0.78      0.65      0.71      1599\n",
      "\n",
      "     accuracy                           0.92     10319\n",
      "    macro avg       0.86      0.81      0.83     10319\n",
      " weighted avg       0.91      0.92      0.91     10319\n",
      "\n"
     ]
    }
   ],
   "source": [
    "# Print the classification report for the model\n",
    "target_names  = [\"Unhealthy (0)\", \"Healthy (1)\"]\n",
    "report = classification_report(y_test, predictions, target_names  = target_names)\n",
    "\n",
    "# Print the training classification report\n",
    "print(report)"
   ]
  },
  {
   "cell_type": "code",
   "execution_count": null,
   "id": "d8daf679-1307-41e0-9170-1353c9c18e4e",
   "metadata": {},
   "outputs": [],
   "source": []
  }
 ],
 "metadata": {
  "kernelspec": {
   "display_name": "Python 3 (ipykernel)",
   "language": "python",
   "name": "python3"
  },
  "language_info": {
   "codemirror_mode": {
    "name": "ipython",
    "version": 3
   },
   "file_extension": ".py",
   "mimetype": "text/x-python",
   "name": "python",
   "nbconvert_exporter": "python",
   "pygments_lexer": "ipython3",
   "version": "3.10.13"
  }
 },
 "nbformat": 4,
 "nbformat_minor": 5
}
