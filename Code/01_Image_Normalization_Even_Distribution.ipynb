{
 "cells": [
  {
   "cell_type": "markdown",
   "metadata": {
    "id": "wzLRP0o1Sicr"
   },
   "source": [
    "## Dependencies"
   ]
  },
  {
   "cell_type": "code",
   "execution_count": 1,
   "metadata": {
    "id": "3xTz0eNcSicu"
   },
   "outputs": [],
   "source": [
    "# Filepaths, Python Imaging,, numpy and panas \n",
    "import os\n",
    "from PIL import Image\n",
    "import numpy as np\n",
    "import pandas as pd"
   ]
  },
  {
   "cell_type": "code",
   "execution_count": 2,
   "metadata": {},
   "outputs": [],
   "source": [
    "# Sklearn scaling\n",
    "from sklearn.preprocessing import StandardScaler"
   ]
  },
  {
   "cell_type": "markdown",
   "metadata": {},
   "source": [
    "### Load the Plant Disease dataset from local desktop"
   ]
  },
  {
   "cell_type": "code",
   "execution_count": 3,
   "metadata": {},
   "outputs": [],
   "source": [
    "base_dir = r'ENTER_YOUR_FILE_PATH_HERE'"
   ]
  },
  {
   "cell_type": "markdown",
   "metadata": {},
   "source": [
    "# Collect all images & preprocessing"
   ]
  },
  {
   "cell_type": "code",
   "execution_count": 4,
   "metadata": {},
   "outputs": [
    {
     "name": "stdout",
     "output_type": "stream",
     "text": [
      "Total number of images: 6006\n"
     ]
    }
   ],
   "source": [
    "# For loop to pull 1500 images from healthy and 167 from all others for even split of healthy vs unhealthy logistic regression\n",
    "def load_images_from_subfolders(base_folder):\n",
    "    images = []\n",
    "    labels = []\n",
    "    max_images_healthy = 1500\n",
    "    max_images_others = 167\n",
    "\n",
    "    for root, dirs, files in os.walk(base_folder):\n",
    "        folder_name = os.path.basename(root)\n",
    "        if folder_name.startswith(\"Tomato_\"):\n",
    "            image_count = 0 \n",
    "            if folder_name == \"Tomato_healthy\":\n",
    "               max_images = max_images_healthy\n",
    "            else:\n",
    "                max_images = max_images_others\n",
    "\n",
    "            for file in files:\n",
    "                if file.lower().endswith(('.png', '.jpg', '.jpeg')):\n",
    "                    if image_count >= max_images:\n",
    "                        break\n",
    "                    img_path = os.path.join(root, file)\n",
    "                    #print(f\"Loading {img_path}\")\n",
    "                    try:\n",
    "                        img = Image.open(img_path).convert('RGB')\n",
    "                        img = img.resize((28, 28))\n",
    "                        images.append(np.array(img))\n",
    "                        labels.append(folder_name) \n",
    "                        image_count += 1\n",
    "                    except Exception as e:\n",
    "                        print(f\"Error loading image {img_path}: {e}\")\n",
    "\n",
    "    return np.array(images), np.array(labels)\n",
    "\n",
    "all_images, labels = load_images_from_subfolders(base_dir)\n",
    "print(f'Total number of images: {all_images.shape[0]}')"
   ]
  },
  {
   "cell_type": "code",
   "execution_count": 5,
   "metadata": {},
   "outputs": [],
   "source": [
    "# Normalizing all images using fit_transform\n",
    "n_samples, height, width, n_channels = all_images.shape\n",
    "flattened_images = all_images.reshape((n_samples, -1))\n",
    "\n",
    "scaler = StandardScaler()\n",
    "flattened_images_scaled = scaler.fit_transform(flattened_images)\n",
    "\n",
    "# Create dataframe from scaled and flattened images\n",
    "df_scaled_images = pd.DataFrame(flattened_images_scaled)\n",
    "\n",
    "# Add Label (i.e. Category) to the dataframe\n",
    "df_scaled_images['label'] = labels\n",
    "\n",
    "# Save dataframe to CSV locally due to size\n",
    "file_path = r'ENTER_YOUR_FILE_PATH_HERE'\n",
    "df_scaled_images.to_csv(file_path, index=False)"
   ]
  },
  {
   "cell_type": "markdown",
   "metadata": {},
   "source": [
    "# Review normalized images"
   ]
  },
  {
   "cell_type": "code",
   "execution_count": 6,
   "metadata": {},
   "outputs": [
    {
     "data": {
      "text/html": [
       "<div>\n",
       "<style scoped>\n",
       "    .dataframe tbody tr th:only-of-type {\n",
       "        vertical-align: middle;\n",
       "    }\n",
       "\n",
       "    .dataframe tbody tr th {\n",
       "        vertical-align: top;\n",
       "    }\n",
       "\n",
       "    .dataframe thead th {\n",
       "        text-align: right;\n",
       "    }\n",
       "</style>\n",
       "<table border=\"1\" class=\"dataframe\">\n",
       "  <thead>\n",
       "    <tr style=\"text-align: right;\">\n",
       "      <th></th>\n",
       "      <th>0</th>\n",
       "      <th>1</th>\n",
       "      <th>2</th>\n",
       "      <th>3</th>\n",
       "      <th>4</th>\n",
       "      <th>5</th>\n",
       "      <th>6</th>\n",
       "      <th>7</th>\n",
       "      <th>8</th>\n",
       "      <th>9</th>\n",
       "      <th>...</th>\n",
       "      <th>2343</th>\n",
       "      <th>2344</th>\n",
       "      <th>2345</th>\n",
       "      <th>2346</th>\n",
       "      <th>2347</th>\n",
       "      <th>2348</th>\n",
       "      <th>2349</th>\n",
       "      <th>2350</th>\n",
       "      <th>2351</th>\n",
       "      <th>label</th>\n",
       "    </tr>\n",
       "  </thead>\n",
       "  <tbody>\n",
       "    <tr>\n",
       "      <th>0</th>\n",
       "      <td>0.509069</td>\n",
       "      <td>0.543782</td>\n",
       "      <td>0.203630</td>\n",
       "      <td>0.514034</td>\n",
       "      <td>0.551566</td>\n",
       "      <td>0.209897</td>\n",
       "      <td>0.548410</td>\n",
       "      <td>0.588554</td>\n",
       "      <td>0.248520</td>\n",
       "      <td>0.469272</td>\n",
       "      <td>...</td>\n",
       "      <td>-0.331893</td>\n",
       "      <td>-0.374229</td>\n",
       "      <td>-0.528024</td>\n",
       "      <td>-0.373123</td>\n",
       "      <td>-0.385091</td>\n",
       "      <td>-0.575035</td>\n",
       "      <td>-0.320599</td>\n",
       "      <td>-0.327442</td>\n",
       "      <td>-0.523437</td>\n",
       "      <td>Tomato_Bacterial_spot</td>\n",
       "    </tr>\n",
       "    <tr>\n",
       "      <th>1</th>\n",
       "      <td>-0.645186</td>\n",
       "      <td>-0.750117</td>\n",
       "      <td>-1.108201</td>\n",
       "      <td>-0.685108</td>\n",
       "      <td>-0.792221</td>\n",
       "      <td>-1.150344</td>\n",
       "      <td>-0.613734</td>\n",
       "      <td>-0.722766</td>\n",
       "      <td>-1.081046</td>\n",
       "      <td>-0.543298</td>\n",
       "      <td>...</td>\n",
       "      <td>1.161029</td>\n",
       "      <td>1.384871</td>\n",
       "      <td>1.093676</td>\n",
       "      <td>1.228654</td>\n",
       "      <td>1.456097</td>\n",
       "      <td>1.158420</td>\n",
       "      <td>1.226318</td>\n",
       "      <td>1.451978</td>\n",
       "      <td>1.154496</td>\n",
       "      <td>Tomato_Bacterial_spot</td>\n",
       "    </tr>\n",
       "    <tr>\n",
       "      <th>2</th>\n",
       "      <td>-0.760612</td>\n",
       "      <td>-0.635949</td>\n",
       "      <td>-1.070720</td>\n",
       "      <td>-0.723790</td>\n",
       "      <td>-0.600252</td>\n",
       "      <td>-1.036991</td>\n",
       "      <td>-0.807425</td>\n",
       "      <td>-0.684198</td>\n",
       "      <td>-1.119034</td>\n",
       "      <td>-0.815913</td>\n",
       "      <td>...</td>\n",
       "      <td>1.071454</td>\n",
       "      <td>1.416855</td>\n",
       "      <td>1.063078</td>\n",
       "      <td>1.107765</td>\n",
       "      <td>1.423795</td>\n",
       "      <td>1.127465</td>\n",
       "      <td>0.923001</td>\n",
       "      <td>1.225506</td>\n",
       "      <td>0.968059</td>\n",
       "      <td>Tomato_Bacterial_spot</td>\n",
       "    </tr>\n",
       "    <tr>\n",
       "      <th>3</th>\n",
       "      <td>0.855345</td>\n",
       "      <td>1.038508</td>\n",
       "      <td>0.728362</td>\n",
       "      <td>0.900854</td>\n",
       "      <td>1.089081</td>\n",
       "      <td>0.776664</td>\n",
       "      <td>0.780838</td>\n",
       "      <td>0.974236</td>\n",
       "      <td>0.666383</td>\n",
       "      <td>0.663997</td>\n",
       "      <td>...</td>\n",
       "      <td>0.145842</td>\n",
       "      <td>0.233460</td>\n",
       "      <td>-0.069052</td>\n",
       "      <td>0.019766</td>\n",
       "      <td>0.099432</td>\n",
       "      <td>-0.172626</td>\n",
       "      <td>-0.017282</td>\n",
       "      <td>0.060795</td>\n",
       "      <td>-0.243782</td>\n",
       "      <td>Tomato_Bacterial_spot</td>\n",
       "    </tr>\n",
       "    <tr>\n",
       "      <th>4</th>\n",
       "      <td>1.163147</td>\n",
       "      <td>1.190731</td>\n",
       "      <td>0.840805</td>\n",
       "      <td>1.132946</td>\n",
       "      <td>1.165869</td>\n",
       "      <td>0.852233</td>\n",
       "      <td>1.129481</td>\n",
       "      <td>1.167078</td>\n",
       "      <td>0.894308</td>\n",
       "      <td>1.092392</td>\n",
       "      <td>...</td>\n",
       "      <td>-0.302035</td>\n",
       "      <td>-0.566130</td>\n",
       "      <td>-0.803407</td>\n",
       "      <td>-0.403345</td>\n",
       "      <td>-0.643503</td>\n",
       "      <td>-0.884581</td>\n",
       "      <td>-0.290267</td>\n",
       "      <td>-0.489207</td>\n",
       "      <td>-0.740947</td>\n",
       "      <td>Tomato_Bacterial_spot</td>\n",
       "    </tr>\n",
       "  </tbody>\n",
       "</table>\n",
       "<p>5 rows × 2353 columns</p>\n",
       "</div>"
      ],
      "text/plain": [
       "          0         1         2         3         4         5         6  \\\n",
       "0  0.509069  0.543782  0.203630  0.514034  0.551566  0.209897  0.548410   \n",
       "1 -0.645186 -0.750117 -1.108201 -0.685108 -0.792221 -1.150344 -0.613734   \n",
       "2 -0.760612 -0.635949 -1.070720 -0.723790 -0.600252 -1.036991 -0.807425   \n",
       "3  0.855345  1.038508  0.728362  0.900854  1.089081  0.776664  0.780838   \n",
       "4  1.163147  1.190731  0.840805  1.132946  1.165869  0.852233  1.129481   \n",
       "\n",
       "          7         8         9  ...      2343      2344      2345      2346  \\\n",
       "0  0.588554  0.248520  0.469272  ... -0.331893 -0.374229 -0.528024 -0.373123   \n",
       "1 -0.722766 -1.081046 -0.543298  ...  1.161029  1.384871  1.093676  1.228654   \n",
       "2 -0.684198 -1.119034 -0.815913  ...  1.071454  1.416855  1.063078  1.107765   \n",
       "3  0.974236  0.666383  0.663997  ...  0.145842  0.233460 -0.069052  0.019766   \n",
       "4  1.167078  0.894308  1.092392  ... -0.302035 -0.566130 -0.803407 -0.403345   \n",
       "\n",
       "       2347      2348      2349      2350      2351                  label  \n",
       "0 -0.385091 -0.575035 -0.320599 -0.327442 -0.523437  Tomato_Bacterial_spot  \n",
       "1  1.456097  1.158420  1.226318  1.451978  1.154496  Tomato_Bacterial_spot  \n",
       "2  1.423795  1.127465  0.923001  1.225506  0.968059  Tomato_Bacterial_spot  \n",
       "3  0.099432 -0.172626 -0.017282  0.060795 -0.243782  Tomato_Bacterial_spot  \n",
       "4 -0.643503 -0.884581 -0.290267 -0.489207 -0.740947  Tomato_Bacterial_spot  \n",
       "\n",
       "[5 rows x 2353 columns]"
      ]
     },
     "execution_count": 6,
     "metadata": {},
     "output_type": "execute_result"
    }
   ],
   "source": [
    "# Review the dataframe\n",
    "df_scaled_images.head(5)"
   ]
  },
  {
   "cell_type": "code",
   "execution_count": 7,
   "metadata": {},
   "outputs": [
    {
     "data": {
      "text/plain": [
       "(6006, 2353)"
      ]
     },
     "execution_count": 7,
     "metadata": {},
     "output_type": "execute_result"
    }
   ],
   "source": [
    "# Review the shape of the images\n",
    "df_scaled_images.shape"
   ]
  },
  {
   "cell_type": "code",
   "execution_count": 8,
   "metadata": {},
   "outputs": [
    {
     "data": {
      "text/plain": [
       "['Tomato_Bacterial_spot',\n",
       " 'Tomato_Early_blight',\n",
       " 'Tomato_healthy',\n",
       " 'Tomato_Late_blight',\n",
       " 'Tomato_Leaf_Mold',\n",
       " 'Tomato_Septoria_leaf_spot',\n",
       " 'Tomato_Spider_mites_Two_spotted_spider_mite',\n",
       " 'Tomato__Target_Spot',\n",
       " 'Tomato__Tomato_mosaic_virus',\n",
       " 'Tomato__Tomato_YellowLeaf__Curl_Virus']"
      ]
     },
     "execution_count": 8,
     "metadata": {},
     "output_type": "execute_result"
    }
   ],
   "source": [
    "# Review unique labels\n",
    "df_scaled_images['label'].unique().tolist()"
   ]
  },
  {
   "cell_type": "code",
   "execution_count": 9,
   "metadata": {},
   "outputs": [
    {
     "data": {
      "text/plain": [
       "label\n",
       "Tomato_Bacterial_spot                           334\n",
       "Tomato_Early_blight                             334\n",
       "Tomato_Late_blight                              334\n",
       "Tomato_Leaf_Mold                                334\n",
       "Tomato_Septoria_leaf_spot                       334\n",
       "Tomato_Spider_mites_Two_spotted_spider_mite     334\n",
       "Tomato__Target_Spot                             334\n",
       "Tomato__Tomato_mosaic_virus                     334\n",
       "Tomato__Tomato_YellowLeaf__Curl_Virus           334\n",
       "Tomato_healthy                                 3000\n",
       "Name: count, dtype: int64"
      ]
     },
     "execution_count": 9,
     "metadata": {},
     "output_type": "execute_result"
    }
   ],
   "source": [
    "label_count = df_scaled_images['label'].value_counts().sort_values(ascending=True)\n",
    "label_count"
   ]
  },
  {
   "cell_type": "markdown",
   "metadata": {},
   "source": [
    "# Visualize images by disease"
   ]
  },
  {
   "cell_type": "code",
   "execution_count": 10,
   "metadata": {},
   "outputs": [
    {
     "data": {
      "image/png": "[encoded data removed]",
      "text/plain": [
       "<Figure size 640x480 with 1 Axes>"
      ]
     },
     "metadata": {},
     "output_type": "display_data"
    }
   ],
   "source": [
    "import matplotlib.pyplot as plt\n",
    "label_count.plot(kind='barh', color='green')\n",
    "plt.title('Images Accessed by Disease - Even Distribution')\n",
    "plt.xlabel('Image Count')\n",
    "plt.ylabel('Disease')\n",
    "plt.savefig('..\\Output\\images_accessed_by_disease_even_distro.png',  dpi=300, bbox_inches='tight')\n",
    "plt.show()"
   ]
  },
  {
   "cell_type": "code",
   "execution_count": null,
   "metadata": {},
   "outputs": [],
   "source": []
  }
 ],
 "metadata": {
  "anaconda-cloud": {},
  "celltoolbar": "Slideshow",
  "colab": {
   "provenance": []
  },
  "kernelspec": {
   "display_name": "Python 3 (ipykernel)",
   "language": "python",
   "name": "python3"
  },
  "language_info": {
   "codemirror_mode": {
    "name": "ipython",
    "version": 3
   },
   "file_extension": ".py",
   "mimetype": "text/x-python",
   "name": "python",
   "nbconvert_exporter": "python",
   "pygments_lexer": "ipython3",
   "version": "3.10.13"
  },
  "varInspector": {
   "cols": {
    "lenName": 16,
    "lenType": 16,
    "lenVar": 40
   },
   "kernels_config": {
    "python": {
     "delete_cmd_postfix": "",
     "delete_cmd_prefix": "del ",
     "library": "var_list.py",
     "varRefreshCmd": "print(var_dic_list())"
    },
    "r": {
     "delete_cmd_postfix": ") ",
     "delete_cmd_prefix": "rm(",
     "library": "var_list.r",
     "varRefreshCmd": "cat(var_dic_list()) "
    }
   },
   "types_to_exclude": [
    "module",
    "function",
    "builtin_function_or_method",
    "instance",
    "_Feature"
   ],
   "window_display": false
  },
  "vscode": {
   "interpreter": {
    "hash": "31f2aee4e71d21fbe5cf8b01ff0e069b9275f58929596ceb00d14d90e3e16cd6"
   }
  }
 },
 "nbformat": 4,
 "nbformat_minor": 4
}
