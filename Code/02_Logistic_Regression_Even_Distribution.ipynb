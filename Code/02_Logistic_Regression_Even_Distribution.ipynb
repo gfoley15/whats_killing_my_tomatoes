{
 "cells": [
  {
   "cell_type": "markdown",
   "id": "dfd205cf-a347-43f8-8758-a936fd339085",
   "metadata": {},
   "source": [
    "# Dependencies"
   ]
  },
  {
   "cell_type": "code",
   "execution_count": 1,
   "id": "0dddbddc-ecb7-441c-bada-c8bb2cb74545",
   "metadata": {},
   "outputs": [],
   "source": [
    "import pandas as pd\n",
    "from sklearn.model_selection import train_test_split\n",
    "from sklearn.metrics import confusion_matrix, classification_report, accuracy_score"
   ]
  },
  {
   "cell_type": "markdown",
   "id": "fdf588d4-ff79-40e0-84fc-03dba43efafb",
   "metadata": {},
   "source": [
    "# Data Preprocesing for Logistic Regression"
   ]
  },
  {
   "cell_type": "code",
   "execution_count": 4,
   "id": "aaf666b5-597b-4155-8028-7b424fcc8f99",
   "metadata": {},
   "outputs": [],
   "source": [
    "# Read the scaled images into Jupyter Notebook and create DataFrame\n",
    "file_path = r'ENTER_YOUR_CSV_FILE_PATH_HERE'\n",
    "df = pd.read_csv(file_path)"
   ]
  },
  {
   "cell_type": "code",
   "execution_count": 5,
   "id": "9686a1dc-9c41-4c79-9f30-4e7e170cbe74",
   "metadata": {},
   "outputs": [
    {
     "data": {
      "text/plain": [
       "6006"
      ]
     },
     "execution_count": 5,
     "metadata": {},
     "output_type": "execute_result"
    }
   ],
   "source": [
    "# Confirm all images are listed in df\n",
    "len(df)"
   ]
  },
  {
   "cell_type": "code",
   "execution_count": 6,
   "id": "a37416bc-ed36-498f-861b-2198513a71d3",
   "metadata": {},
   "outputs": [
    {
     "data": {
      "text/html": [
       "<div>\n",
       "<style scoped>\n",
       "    .dataframe tbody tr th:only-of-type {\n",
       "        vertical-align: middle;\n",
       "    }\n",
       "\n",
       "    .dataframe tbody tr th {\n",
       "        vertical-align: top;\n",
       "    }\n",
       "\n",
       "    .dataframe thead th {\n",
       "        text-align: right;\n",
       "    }\n",
       "</style>\n",
       "<table border=\"1\" class=\"dataframe\">\n",
       "  <thead>\n",
       "    <tr style=\"text-align: right;\">\n",
       "      <th></th>\n",
       "      <th>0</th>\n",
       "      <th>1</th>\n",
       "      <th>2</th>\n",
       "      <th>3</th>\n",
       "      <th>4</th>\n",
       "      <th>5</th>\n",
       "      <th>6</th>\n",
       "      <th>7</th>\n",
       "      <th>8</th>\n",
       "      <th>9</th>\n",
       "      <th>...</th>\n",
       "      <th>2344</th>\n",
       "      <th>2345</th>\n",
       "      <th>2346</th>\n",
       "      <th>2347</th>\n",
       "      <th>2348</th>\n",
       "      <th>2349</th>\n",
       "      <th>2350</th>\n",
       "      <th>2351</th>\n",
       "      <th>label</th>\n",
       "      <th>healthy?</th>\n",
       "    </tr>\n",
       "  </thead>\n",
       "  <tbody>\n",
       "    <tr>\n",
       "      <th>0</th>\n",
       "      <td>0.509069</td>\n",
       "      <td>0.543782</td>\n",
       "      <td>0.203630</td>\n",
       "      <td>0.514034</td>\n",
       "      <td>0.551566</td>\n",
       "      <td>0.209897</td>\n",
       "      <td>0.548410</td>\n",
       "      <td>0.588554</td>\n",
       "      <td>0.248520</td>\n",
       "      <td>0.469272</td>\n",
       "      <td>...</td>\n",
       "      <td>-0.374229</td>\n",
       "      <td>-0.528024</td>\n",
       "      <td>-0.373123</td>\n",
       "      <td>-0.385091</td>\n",
       "      <td>-0.575035</td>\n",
       "      <td>-0.320599</td>\n",
       "      <td>-0.327442</td>\n",
       "      <td>-0.523437</td>\n",
       "      <td>Tomato_Bacterial_spot</td>\n",
       "      <td>0</td>\n",
       "    </tr>\n",
       "    <tr>\n",
       "      <th>1</th>\n",
       "      <td>-0.645186</td>\n",
       "      <td>-0.750117</td>\n",
       "      <td>-1.108201</td>\n",
       "      <td>-0.685108</td>\n",
       "      <td>-0.792221</td>\n",
       "      <td>-1.150344</td>\n",
       "      <td>-0.613734</td>\n",
       "      <td>-0.722766</td>\n",
       "      <td>-1.081046</td>\n",
       "      <td>-0.543298</td>\n",
       "      <td>...</td>\n",
       "      <td>1.384871</td>\n",
       "      <td>1.093676</td>\n",
       "      <td>1.228654</td>\n",
       "      <td>1.456097</td>\n",
       "      <td>1.158420</td>\n",
       "      <td>1.226318</td>\n",
       "      <td>1.451978</td>\n",
       "      <td>1.154496</td>\n",
       "      <td>Tomato_Bacterial_spot</td>\n",
       "      <td>0</td>\n",
       "    </tr>\n",
       "    <tr>\n",
       "      <th>2</th>\n",
       "      <td>-0.760612</td>\n",
       "      <td>-0.635949</td>\n",
       "      <td>-1.070720</td>\n",
       "      <td>-0.723790</td>\n",
       "      <td>-0.600252</td>\n",
       "      <td>-1.036991</td>\n",
       "      <td>-0.807425</td>\n",
       "      <td>-0.684198</td>\n",
       "      <td>-1.119034</td>\n",
       "      <td>-0.815913</td>\n",
       "      <td>...</td>\n",
       "      <td>1.416855</td>\n",
       "      <td>1.063078</td>\n",
       "      <td>1.107765</td>\n",
       "      <td>1.423795</td>\n",
       "      <td>1.127465</td>\n",
       "      <td>0.923001</td>\n",
       "      <td>1.225506</td>\n",
       "      <td>0.968059</td>\n",
       "      <td>Tomato_Bacterial_spot</td>\n",
       "      <td>0</td>\n",
       "    </tr>\n",
       "    <tr>\n",
       "      <th>3</th>\n",
       "      <td>0.855345</td>\n",
       "      <td>1.038508</td>\n",
       "      <td>0.728362</td>\n",
       "      <td>0.900854</td>\n",
       "      <td>1.089081</td>\n",
       "      <td>0.776664</td>\n",
       "      <td>0.780838</td>\n",
       "      <td>0.974236</td>\n",
       "      <td>0.666383</td>\n",
       "      <td>0.663997</td>\n",
       "      <td>...</td>\n",
       "      <td>0.233460</td>\n",
       "      <td>-0.069052</td>\n",
       "      <td>0.019766</td>\n",
       "      <td>0.099432</td>\n",
       "      <td>-0.172626</td>\n",
       "      <td>-0.017282</td>\n",
       "      <td>0.060795</td>\n",
       "      <td>-0.243782</td>\n",
       "      <td>Tomato_Bacterial_spot</td>\n",
       "      <td>0</td>\n",
       "    </tr>\n",
       "    <tr>\n",
       "      <th>4</th>\n",
       "      <td>1.163147</td>\n",
       "      <td>1.190731</td>\n",
       "      <td>0.840805</td>\n",
       "      <td>1.132946</td>\n",
       "      <td>1.165869</td>\n",
       "      <td>0.852233</td>\n",
       "      <td>1.129481</td>\n",
       "      <td>1.167078</td>\n",
       "      <td>0.894308</td>\n",
       "      <td>1.092392</td>\n",
       "      <td>...</td>\n",
       "      <td>-0.566130</td>\n",
       "      <td>-0.803407</td>\n",
       "      <td>-0.403345</td>\n",
       "      <td>-0.643503</td>\n",
       "      <td>-0.884581</td>\n",
       "      <td>-0.290267</td>\n",
       "      <td>-0.489207</td>\n",
       "      <td>-0.740947</td>\n",
       "      <td>Tomato_Bacterial_spot</td>\n",
       "      <td>0</td>\n",
       "    </tr>\n",
       "  </tbody>\n",
       "</table>\n",
       "<p>5 rows × 2354 columns</p>\n",
       "</div>"
      ],
      "text/plain": [
       "          0         1         2         3         4         5         6  \\\n",
       "0  0.509069  0.543782  0.203630  0.514034  0.551566  0.209897  0.548410   \n",
       "1 -0.645186 -0.750117 -1.108201 -0.685108 -0.792221 -1.150344 -0.613734   \n",
       "2 -0.760612 -0.635949 -1.070720 -0.723790 -0.600252 -1.036991 -0.807425   \n",
       "3  0.855345  1.038508  0.728362  0.900854  1.089081  0.776664  0.780838   \n",
       "4  1.163147  1.190731  0.840805  1.132946  1.165869  0.852233  1.129481   \n",
       "\n",
       "          7         8         9  ...      2344      2345      2346      2347  \\\n",
       "0  0.588554  0.248520  0.469272  ... -0.374229 -0.528024 -0.373123 -0.385091   \n",
       "1 -0.722766 -1.081046 -0.543298  ...  1.384871  1.093676  1.228654  1.456097   \n",
       "2 -0.684198 -1.119034 -0.815913  ...  1.416855  1.063078  1.107765  1.423795   \n",
       "3  0.974236  0.666383  0.663997  ...  0.233460 -0.069052  0.019766  0.099432   \n",
       "4  1.167078  0.894308  1.092392  ... -0.566130 -0.803407 -0.403345 -0.643503   \n",
       "\n",
       "       2348      2349      2350      2351                  label  healthy?  \n",
       "0 -0.575035 -0.320599 -0.327442 -0.523437  Tomato_Bacterial_spot         0  \n",
       "1  1.158420  1.226318  1.451978  1.154496  Tomato_Bacterial_spot         0  \n",
       "2  1.127465  0.923001  1.225506  0.968059  Tomato_Bacterial_spot         0  \n",
       "3 -0.172626 -0.017282  0.060795 -0.243782  Tomato_Bacterial_spot         0  \n",
       "4 -0.884581 -0.290267 -0.489207 -0.740947  Tomato_Bacterial_spot         0  \n",
       "\n",
       "[5 rows x 2354 columns]"
      ]
     },
     "execution_count": 6,
     "metadata": {},
     "output_type": "execute_result"
    }
   ],
   "source": [
    "# Define the list of healthy labels\n",
    "healthy_labels = ['Tomato_healthy']\n",
    "\n",
    "# Create the 'healthy?' column based on healthy labels\n",
    "df['healthy?'] = df['label'].isin(healthy_labels).astype(int)\n",
    "df.head()"
   ]
  },
  {
   "cell_type": "code",
   "execution_count": 7,
   "id": "d3236742-7cde-477c-9aad-89d9de145219",
   "metadata": {},
   "outputs": [
    {
     "data": {
      "text/html": [
       "<div>\n",
       "<style scoped>\n",
       "    .dataframe tbody tr th:only-of-type {\n",
       "        vertical-align: middle;\n",
       "    }\n",
       "\n",
       "    .dataframe tbody tr th {\n",
       "        vertical-align: top;\n",
       "    }\n",
       "\n",
       "    .dataframe thead th {\n",
       "        text-align: right;\n",
       "    }\n",
       "</style>\n",
       "<table border=\"1\" class=\"dataframe\">\n",
       "  <thead>\n",
       "    <tr style=\"text-align: right;\">\n",
       "      <th></th>\n",
       "      <th>0</th>\n",
       "      <th>1</th>\n",
       "      <th>2</th>\n",
       "      <th>3</th>\n",
       "      <th>4</th>\n",
       "      <th>5</th>\n",
       "      <th>6</th>\n",
       "      <th>7</th>\n",
       "      <th>8</th>\n",
       "      <th>9</th>\n",
       "      <th>...</th>\n",
       "      <th>2344</th>\n",
       "      <th>2345</th>\n",
       "      <th>2346</th>\n",
       "      <th>2347</th>\n",
       "      <th>2348</th>\n",
       "      <th>2349</th>\n",
       "      <th>2350</th>\n",
       "      <th>2351</th>\n",
       "      <th>label</th>\n",
       "      <th>healthy?</th>\n",
       "    </tr>\n",
       "  </thead>\n",
       "  <tbody>\n",
       "    <tr>\n",
       "      <th>334</th>\n",
       "      <td>-0.914512</td>\n",
       "      <td>-0.712061</td>\n",
       "      <td>-0.808354</td>\n",
       "      <td>-1.033246</td>\n",
       "      <td>-0.792221</td>\n",
       "      <td>-0.885853</td>\n",
       "      <td>-1.001115</td>\n",
       "      <td>-0.761334</td>\n",
       "      <td>-0.853120</td>\n",
       "      <td>-0.815913</td>\n",
       "      <td>...</td>\n",
       "      <td>-1.141836</td>\n",
       "      <td>-1.078790</td>\n",
       "      <td>-1.279789</td>\n",
       "      <td>-1.128026</td>\n",
       "      <td>-1.039353</td>\n",
       "      <td>-1.382209</td>\n",
       "      <td>-1.265681</td>\n",
       "      <td>-1.175966</td>\n",
       "      <td>Tomato_healthy</td>\n",
       "      <td>1</td>\n",
       "    </tr>\n",
       "    <tr>\n",
       "      <th>335</th>\n",
       "      <td>0.124317</td>\n",
       "      <td>0.163223</td>\n",
       "      <td>-0.021255</td>\n",
       "      <td>0.165896</td>\n",
       "      <td>0.206021</td>\n",
       "      <td>0.020975</td>\n",
       "      <td>0.354719</td>\n",
       "      <td>0.395713</td>\n",
       "      <td>0.210532</td>\n",
       "      <td>0.313492</td>\n",
       "      <td>...</td>\n",
       "      <td>-1.717541</td>\n",
       "      <td>-1.782547</td>\n",
       "      <td>-1.823789</td>\n",
       "      <td>-1.709454</td>\n",
       "      <td>-1.782263</td>\n",
       "      <td>-1.867516</td>\n",
       "      <td>-1.750977</td>\n",
       "      <td>-1.828496</td>\n",
       "      <td>Tomato_healthy</td>\n",
       "      <td>1</td>\n",
       "    </tr>\n",
       "    <tr>\n",
       "      <th>336</th>\n",
       "      <td>-0.414335</td>\n",
       "      <td>-0.445670</td>\n",
       "      <td>-0.283622</td>\n",
       "      <td>-0.453016</td>\n",
       "      <td>-0.485070</td>\n",
       "      <td>-0.205732</td>\n",
       "      <td>-0.536258</td>\n",
       "      <td>-0.529925</td>\n",
       "      <td>-0.283307</td>\n",
       "      <td>-0.582243</td>\n",
       "      <td>...</td>\n",
       "      <td>1.097018</td>\n",
       "      <td>1.246667</td>\n",
       "      <td>1.137987</td>\n",
       "      <td>1.229986</td>\n",
       "      <td>1.282238</td>\n",
       "      <td>1.044328</td>\n",
       "      <td>1.128447</td>\n",
       "      <td>1.185569</td>\n",
       "      <td>Tomato_healthy</td>\n",
       "      <td>1</td>\n",
       "    </tr>\n",
       "    <tr>\n",
       "      <th>337</th>\n",
       "      <td>-0.876037</td>\n",
       "      <td>-0.864285</td>\n",
       "      <td>-0.583469</td>\n",
       "      <td>-0.878518</td>\n",
       "      <td>-0.907403</td>\n",
       "      <td>-0.583577</td>\n",
       "      <td>-0.962377</td>\n",
       "      <td>-1.031312</td>\n",
       "      <td>-0.701170</td>\n",
       "      <td>-1.049583</td>\n",
       "      <td>...</td>\n",
       "      <td>1.384871</td>\n",
       "      <td>1.491452</td>\n",
       "      <td>1.168210</td>\n",
       "      <td>1.391494</td>\n",
       "      <td>1.498920</td>\n",
       "      <td>1.256650</td>\n",
       "      <td>1.484331</td>\n",
       "      <td>1.589516</td>\n",
       "      <td>Tomato_healthy</td>\n",
       "      <td>1</td>\n",
       "    </tr>\n",
       "    <tr>\n",
       "      <th>338</th>\n",
       "      <td>0.778395</td>\n",
       "      <td>0.772117</td>\n",
       "      <td>0.728362</td>\n",
       "      <td>0.746126</td>\n",
       "      <td>0.743535</td>\n",
       "      <td>0.701095</td>\n",
       "      <td>0.432195</td>\n",
       "      <td>0.434281</td>\n",
       "      <td>0.400470</td>\n",
       "      <td>0.352437</td>\n",
       "      <td>...</td>\n",
       "      <td>-0.406212</td>\n",
       "      <td>-0.222043</td>\n",
       "      <td>-0.161568</td>\n",
       "      <td>-0.352789</td>\n",
       "      <td>-0.172626</td>\n",
       "      <td>-0.017282</td>\n",
       "      <td>-0.198029</td>\n",
       "      <td>0.004801</td>\n",
       "      <td>Tomato_healthy</td>\n",
       "      <td>1</td>\n",
       "    </tr>\n",
       "  </tbody>\n",
       "</table>\n",
       "<p>5 rows × 2354 columns</p>\n",
       "</div>"
      ],
      "text/plain": [
       "            0         1         2         3         4         5         6  \\\n",
       "334 -0.914512 -0.712061 -0.808354 -1.033246 -0.792221 -0.885853 -1.001115   \n",
       "335  0.124317  0.163223 -0.021255  0.165896  0.206021  0.020975  0.354719   \n",
       "336 -0.414335 -0.445670 -0.283622 -0.453016 -0.485070 -0.205732 -0.536258   \n",
       "337 -0.876037 -0.864285 -0.583469 -0.878518 -0.907403 -0.583577 -0.962377   \n",
       "338  0.778395  0.772117  0.728362  0.746126  0.743535  0.701095  0.432195   \n",
       "\n",
       "            7         8         9  ...      2344      2345      2346  \\\n",
       "334 -0.761334 -0.853120 -0.815913  ... -1.141836 -1.078790 -1.279789   \n",
       "335  0.395713  0.210532  0.313492  ... -1.717541 -1.782547 -1.823789   \n",
       "336 -0.529925 -0.283307 -0.582243  ...  1.097018  1.246667  1.137987   \n",
       "337 -1.031312 -0.701170 -1.049583  ...  1.384871  1.491452  1.168210   \n",
       "338  0.434281  0.400470  0.352437  ... -0.406212 -0.222043 -0.161568   \n",
       "\n",
       "         2347      2348      2349      2350      2351           label  \\\n",
       "334 -1.128026 -1.039353 -1.382209 -1.265681 -1.175966  Tomato_healthy   \n",
       "335 -1.709454 -1.782263 -1.867516 -1.750977 -1.828496  Tomato_healthy   \n",
       "336  1.229986  1.282238  1.044328  1.128447  1.185569  Tomato_healthy   \n",
       "337  1.391494  1.498920  1.256650  1.484331  1.589516  Tomato_healthy   \n",
       "338 -0.352789 -0.172626 -0.017282 -0.198029  0.004801  Tomato_healthy   \n",
       "\n",
       "     healthy?  \n",
       "334         1  \n",
       "335         1  \n",
       "336         1  \n",
       "337         1  \n",
       "338         1  \n",
       "\n",
       "[5 rows x 2354 columns]"
      ]
     },
     "execution_count": 7,
     "metadata": {},
     "output_type": "execute_result"
    }
   ],
   "source": [
    "# Confirm binary value is correct\n",
    "df.loc[df['label'] == 'Tomato_healthy'].head(5)"
   ]
  },
  {
   "cell_type": "code",
   "execution_count": 8,
   "id": "a5318426-050a-4473-b37e-a0941e0845a6",
   "metadata": {},
   "outputs": [],
   "source": [
    "# Save new CSV file with binary healthy / not healthy column\n",
    "file_path = r'ENTER_YOUR_CSV_FILE_PATH_HERE'\n",
    "df.to_csv(file_path, index=False)"
   ]
  },
  {
   "cell_type": "markdown",
   "id": "f31d8a3a-65bf-41a9-ae82-5c74b0c7d0a7",
   "metadata": {},
   "source": [
    "# Fit Model and Make Predictions"
   ]
  },
  {
   "cell_type": "code",
   "execution_count": 9,
   "id": "28f886de-87d1-49b2-9f08-5e546685df97",
   "metadata": {},
   "outputs": [],
   "source": [
    "# Read the scaled images into Jupyter Notebook and create DataFrame\n",
    "file_path = r'ENTER YOUR FILE PATH HERE'\n",
    "df = pd.read_csv(file_path)"
   ]
  },
  {
   "cell_type": "code",
   "execution_count": 10,
   "id": "fd5ed3ea-a383-4ab3-a3b5-65c56fc7e901",
   "metadata": {},
   "outputs": [],
   "source": [
    "# Remove label for logistic regression model\n",
    "df = df.drop('label', axis=1)"
   ]
  },
  {
   "cell_type": "code",
   "execution_count": 11,
   "id": "26cf619d-b2b6-4798-b91d-1f39caeaa484",
   "metadata": {},
   "outputs": [],
   "source": [
    "# Separate features and labels\n",
    "X = df.drop('healthy?', axis=1).values\n",
    "y = df['healthy?'].values "
   ]
  },
  {
   "cell_type": "code",
   "execution_count": 12,
   "id": "3c5f34db-998e-44ea-b73c-52371a71e819",
   "metadata": {},
   "outputs": [],
   "source": [
    "# Split the data into training and testing sets\n",
    "X_train, X_test, y_train, y_test = train_test_split(X, y, random_state=42)"
   ]
  },
  {
   "cell_type": "code",
   "execution_count": 13,
   "id": "6f6f4205-7a16-4559-95f4-73c054865649",
   "metadata": {},
   "outputs": [
    {
     "data": {
      "text/html": [
       "<style>#sk-container-id-1 {color: black;}#sk-container-id-1 pre{padding: 0;}#sk-container-id-1 div.sk-toggleable {background-color: white;}#sk-container-id-1 label.sk-toggleable__label {cursor: pointer;display: block;width: 100%;margin-bottom: 0;padding: 0.3em;box-sizing: border-box;text-align: center;}#sk-container-id-1 label.sk-toggleable__label-arrow:before {content: \"▸\";float: left;margin-right: 0.25em;color: #696969;}#sk-container-id-1 label.sk-toggleable__label-arrow:hover:before {color: black;}#sk-container-id-1 div.sk-estimator:hover label.sk-toggleable__label-arrow:before {color: black;}#sk-container-id-1 div.sk-toggleable__content {max-height: 0;max-width: 0;overflow: hidden;text-align: left;background-color: #f0f8ff;}#sk-container-id-1 div.sk-toggleable__content pre {margin: 0.2em;color: black;border-radius: 0.25em;background-color: #f0f8ff;}#sk-container-id-1 input.sk-toggleable__control:checked~div.sk-toggleable__content {max-height: 200px;max-width: 100%;overflow: auto;}#sk-container-id-1 input.sk-toggleable__control:checked~label.sk-toggleable__label-arrow:before {content: \"▾\";}#sk-container-id-1 div.sk-estimator input.sk-toggleable__control:checked~label.sk-toggleable__label {background-color: #d4ebff;}#sk-container-id-1 div.sk-label input.sk-toggleable__control:checked~label.sk-toggleable__label {background-color: #d4ebff;}#sk-container-id-1 input.sk-hidden--visually {border: 0;clip: rect(1px 1px 1px 1px);clip: rect(1px, 1px, 1px, 1px);height: 1px;margin: -1px;overflow: hidden;padding: 0;position: absolute;width: 1px;}#sk-container-id-1 div.sk-estimator {font-family: monospace;background-color: #f0f8ff;border: 1px dotted black;border-radius: 0.25em;box-sizing: border-box;margin-bottom: 0.5em;}#sk-container-id-1 div.sk-estimator:hover {background-color: #d4ebff;}#sk-container-id-1 div.sk-parallel-item::after {content: \"\";width: 100%;border-bottom: 1px solid gray;flex-grow: 1;}#sk-container-id-1 div.sk-label:hover label.sk-toggleable__label {background-color: #d4ebff;}#sk-container-id-1 div.sk-serial::before {content: \"\";position: absolute;border-left: 1px solid gray;box-sizing: border-box;top: 0;bottom: 0;left: 50%;z-index: 0;}#sk-container-id-1 div.sk-serial {display: flex;flex-direction: column;align-items: center;background-color: white;padding-right: 0.2em;padding-left: 0.2em;position: relative;}#sk-container-id-1 div.sk-item {position: relative;z-index: 1;}#sk-container-id-1 div.sk-parallel {display: flex;align-items: stretch;justify-content: center;background-color: white;position: relative;}#sk-container-id-1 div.sk-item::before, #sk-container-id-1 div.sk-parallel-item::before {content: \"\";position: absolute;border-left: 1px solid gray;box-sizing: border-box;top: 0;bottom: 0;left: 50%;z-index: -1;}#sk-container-id-1 div.sk-parallel-item {display: flex;flex-direction: column;z-index: 1;position: relative;background-color: white;}#sk-container-id-1 div.sk-parallel-item:first-child::after {align-self: flex-end;width: 50%;}#sk-container-id-1 div.sk-parallel-item:last-child::after {align-self: flex-start;width: 50%;}#sk-container-id-1 div.sk-parallel-item:only-child::after {width: 0;}#sk-container-id-1 div.sk-dashed-wrapped {border: 1px dashed gray;margin: 0 0.4em 0.5em 0.4em;box-sizing: border-box;padding-bottom: 0.4em;background-color: white;}#sk-container-id-1 div.sk-label label {font-family: monospace;font-weight: bold;display: inline-block;line-height: 1.2em;}#sk-container-id-1 div.sk-label-container {text-align: center;}#sk-container-id-1 div.sk-container {/* jupyter's `normalize.less` sets `[hidden] { display: none; }` but bootstrap.min.css set `[hidden] { display: none !important; }` so we also need the `!important` here to be able to override the default hidden behavior on the sphinx rendered scikit-learn.org. See: https://github.com/scikit-learn/scikit-learn/issues/21755 */display: inline-block !important;position: relative;}#sk-container-id-1 div.sk-text-repr-fallback {display: none;}</style><div id=\"sk-container-id-1\" class=\"sk-top-container\"><div class=\"sk-text-repr-fallback\"><pre>LogisticRegression(max_iter=2000, random_state=1)</pre><b>In a Jupyter environment, please rerun this cell to show the HTML representation or trust the notebook. <br />On GitHub, the HTML representation is unable to render, please try loading this page with nbviewer.org.</b></div><div class=\"sk-container\" hidden><div class=\"sk-item\"><div class=\"sk-estimator sk-toggleable\"><input class=\"sk-toggleable__control sk-hidden--visually\" id=\"sk-estimator-id-1\" type=\"checkbox\" checked><label for=\"sk-estimator-id-1\" class=\"sk-toggleable__label sk-toggleable__label-arrow\">LogisticRegression</label><div class=\"sk-toggleable__content\"><pre>LogisticRegression(max_iter=2000, random_state=1)</pre></div></div></div></div></div>"
      ],
      "text/plain": [
       "LogisticRegression(max_iter=2000, random_state=1)"
      ]
     },
     "execution_count": 13,
     "metadata": {},
     "output_type": "execute_result"
    }
   ],
   "source": [
    "# Import the LogisticRegression module from SKLearn\n",
    "from sklearn.linear_model import LogisticRegression\n",
    "\n",
    "# Create model\n",
    "model = LogisticRegression(random_state=1,  max_iter=2000)\n",
    "model"
   ]
  },
  {
   "cell_type": "code",
   "execution_count": 14,
   "id": "21c4f347-e9eb-408f-a681-848780fce291",
   "metadata": {},
   "outputs": [],
   "source": [
    "# Fit the model using training data\n",
    "logreg = model.fit(X_train, y_train)"
   ]
  },
  {
   "cell_type": "code",
   "execution_count": 15,
   "id": "57cb2e22-f2fa-4530-9544-15e1deed4780",
   "metadata": {},
   "outputs": [],
   "source": [
    "# Make a prediction using test data\n",
    "predictions = logreg.predict(X_test)"
   ]
  },
  {
   "cell_type": "code",
   "execution_count": 16,
   "id": "4b50fa43-a46b-4be2-9de9-59f36fca2804",
   "metadata": {},
   "outputs": [
    {
     "data": {
      "text/html": [
       "<div>\n",
       "<style scoped>\n",
       "    .dataframe tbody tr th:only-of-type {\n",
       "        vertical-align: middle;\n",
       "    }\n",
       "\n",
       "    .dataframe tbody tr th {\n",
       "        vertical-align: top;\n",
       "    }\n",
       "\n",
       "    .dataframe thead th {\n",
       "        text-align: right;\n",
       "    }\n",
       "</style>\n",
       "<table border=\"1\" class=\"dataframe\">\n",
       "  <thead>\n",
       "    <tr style=\"text-align: right;\">\n",
       "      <th></th>\n",
       "      <th>Predicted Unhealthy</th>\n",
       "      <th>Predicted Healthy</th>\n",
       "    </tr>\n",
       "  </thead>\n",
       "  <tbody>\n",
       "    <tr>\n",
       "      <th>Actual Unhealthy</th>\n",
       "      <td>735</td>\n",
       "      <td>14</td>\n",
       "    </tr>\n",
       "    <tr>\n",
       "      <th>Actual Healthy</th>\n",
       "      <td>26</td>\n",
       "      <td>727</td>\n",
       "    </tr>\n",
       "  </tbody>\n",
       "</table>\n",
       "</div>"
      ],
      "text/plain": [
       "                  Predicted Unhealthy  Predicted Healthy\n",
       "Actual Unhealthy                  735                 14\n",
       "Actual Healthy                     26                727"
      ]
     },
     "execution_count": 16,
     "metadata": {},
     "output_type": "execute_result"
    }
   ],
   "source": [
    "# Generate a confusion matrix for the model\n",
    "matrix = confusion_matrix(y_test, predictions)\n",
    "matrix = pd.DataFrame(matrix,\n",
    "                     index = ['Actual Unhealthy', 'Actual Healthy'],\n",
    "                     columns = ['Predicted Unhealthy', 'Predicted Healthy'])\n",
    "matrix"
   ]
  },
  {
   "cell_type": "code",
   "execution_count": 22,
   "id": "85f85a47-fc65-4b0d-99b0-7ae3cf4ebdd1",
   "metadata": {},
   "outputs": [
    {
     "data": {
      "image/png": "[encoded data removed]",
      "text/plain": [
       "<Figure size 300x100 with 1 Axes>"
      ]
     },
     "metadata": {},
     "output_type": "display_data"
    }
   ],
   "source": [
    "#Export confusion matrix to chart visual\n",
    "import matplotlib.pyplot as plt\n",
    "\n",
    "fig, ax = plt.subplots(figsize=(3, 1))\n",
    "ax.axis('off')\n",
    "ax.text(0.5, 0.5, matrix, fontsize=15, ha='center', va='center')\n",
    "plt.savefig('..\\Output\\even_confusion_matrix_text.png',  dpi=300, bbox_inches='tight')\n",
    "plt.show()"
   ]
  },
  {
   "cell_type": "code",
   "execution_count": 23,
   "id": "88f1af63-e4ab-428f-ab59-4b8dc475abe3",
   "metadata": {},
   "outputs": [
    {
     "data": {
      "image/png": "[encoded data removed]",
      "text/plain": [
       "<Figure size 800x600 with 1 Axes>"
      ]
     },
     "metadata": {},
     "output_type": "display_data"
    }
   ],
   "source": [
    "# Visualize confusion matrix\n",
    "import seaborn as sns\n",
    "\n",
    "plt.figure(figsize=(8, 6))\n",
    "sns.heatmap(matrix, annot=True, fmt='d', cmap='Greens', cbar=False)\n",
    "plt.title('Confusion Matrix')\n",
    "plt.savefig('..\\Output\\even_confusion_matrix.png',  dpi=300, bbox_inches='tight')\n",
    "plt.show()"
   ]
  },
  {
   "cell_type": "code",
   "execution_count": 24,
   "id": "9377c0d5-99d4-435e-9401-d04a891bab1d",
   "metadata": {},
   "outputs": [
    {
     "name": "stdout",
     "output_type": "stream",
     "text": [
      "               precision    recall  f1-score   support\n",
      "\n",
      "Unhealthy (0)       0.97      0.98      0.97       749\n",
      "  Healthy (1)       0.98      0.97      0.97       753\n",
      "\n",
      "     accuracy                           0.97      1502\n",
      "    macro avg       0.97      0.97      0.97      1502\n",
      " weighted avg       0.97      0.97      0.97      1502\n",
      "\n"
     ]
    }
   ],
   "source": [
    "# Print the classification report for the model\n",
    "target_names  = [\"Unhealthy (0)\", \"Healthy (1)\"]\n",
    "report = classification_report(y_test, predictions, target_names  = target_names)\n",
    "\n",
    "# Print the training classification report\n",
    "print(report)"
   ]
  },
  {
   "cell_type": "code",
   "execution_count": 25,
   "id": "d8daf679-1307-41e0-9170-1353c9c18e4e",
   "metadata": {},
   "outputs": [
    {
     "data": {
      "image/png": "[encoded data removed]",
      "text/plain": [
       "<Figure size 600x300 with 1 Axes>"
      ]
     },
     "metadata": {},
     "output_type": "display_data"
    }
   ],
   "source": [
    "# Visualize classification report\n",
    "fig, ax = plt.subplots(figsize=(6, 3))\n",
    "ax.axis('off')\n",
    "ax.text(0.5, 0.5, report, fontsize=15, ha='center', va='center')\n",
    "plt.savefig('..\\Output\\even_classification_report.png',  dpi=300, bbox_inches='tight')\n",
    "plt.show()"
   ]
  },
  {
   "cell_type": "code",
   "execution_count": null,
   "id": "fb3c4e84-2de5-40ac-ba5f-606cf0007bbb",
   "metadata": {},
   "outputs": [],
   "source": []
  }
 ],
 "metadata": {
  "kernelspec": {
   "display_name": "Python 3 (ipykernel)",
   "language": "python",
   "name": "python3"
  },
  "language_info": {
   "codemirror_mode": {
    "name": "ipython",
    "version": 3
   },
   "file_extension": ".py",
   "mimetype": "text/x-python",
   "name": "python",
   "nbconvert_exporter": "python",
   "pygments_lexer": "ipython3",
   "version": "3.10.13"
  }
 },
 "nbformat": 4,
 "nbformat_minor": 5
}
