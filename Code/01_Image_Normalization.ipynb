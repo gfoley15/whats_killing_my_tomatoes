{
 "cells": [
  {
   "cell_type": "markdown",
   "metadata": {
    "id": "wzLRP0o1Sicr"
   },
   "source": [
    "## Dependencies"
   ]
  },
  {
   "cell_type": "code",
   "execution_count": 1,
   "metadata": {
    "id": "3xTz0eNcSicu"
   },
   "outputs": [],
   "source": [
    "# Filepaths, Python Imaging,, numpy and pandas \n",
    "import os\n",
    "from PIL import Image\n",
    "import numpy as np\n",
    "import pandas as pd"
   ]
  },
  {
   "cell_type": "code",
   "execution_count": 2,
   "metadata": {},
   "outputs": [],
   "source": [
    "# Sklearn scaling\n",
    "from sklearn.preprocessing import MinMaxScaler"
   ]
  },
  {
   "cell_type": "markdown",
   "metadata": {},
   "source": [
    "### Load the Plant Disease dataset from local desktop"
   ]
  },
  {
   "cell_type": "code",
   "execution_count": 3,
   "metadata": {},
   "outputs": [],
   "source": [
    "base_dir = r'ENTER_YOUR_FILE_PATH_HERE'"
   ]
  },
  {
   "cell_type": "markdown",
   "metadata": {},
   "source": [
    "# Collect all images & preprocessing"
   ]
  },
  {
   "cell_type": "code",
   "execution_count": 4,
   "metadata": {},
   "outputs": [
    {
     "name": "stdout",
     "output_type": "stream",
     "text": [
      "Total number of images: 32022\n"
     ]
    }
   ],
   "source": [
    "# Expanding for loop to gather all images from all directories\n",
    "def load_images_from_subfolders(base_folder):\n",
    "    images = []\n",
    "    labels = []\n",
    "\n",
    "    for root, dirs, files in os.walk(base_folder):\n",
    "        folder_name = os.path.basename(root)\n",
    "        if folder_name.startswith('Tomato'):\n",
    "            for file in files:\n",
    "                if file.lower().endswith(('.png', '.jpg', '.jpeg')):\n",
    "                    img_path = os.path.join(root, file)\n",
    "                    #print(f\"Loading {img_path}\")\n",
    "                    try:\n",
    "                        img = Image.open(img_path).convert('RGB')\n",
    "                        img = img.resize((28, 28))\n",
    "                        images.append(np.array(img))\n",
    "                        labels.append(folder_name) \n",
    "                    except Exception as e:\n",
    "                        print(f\"Error loading image {img_path}: {e}\")\n",
    "\n",
    "    return np.array(images), np.array(labels)\n",
    "\n",
    "all_images, labels = load_images_from_subfolders(base_dir)\n",
    "print(f'Total number of images: {all_images.shape[0]}')"
   ]
  },
  {
   "cell_type": "code",
   "execution_count": 7,
   "metadata": {},
   "outputs": [],
   "source": [
    "# Normalizing all images using fit_transform\n",
    "n_samples, height, width, n_channels = all_images.shape\n",
    "flattened_images = all_images.reshape((n_samples, -1))\n",
    "\n",
    "scaler = MinMaxScaler()\n",
    "flattened_images_scaled = scaler.fit_transform(flattened_images)\n",
    "\n",
    "# Create dataframe from scaled and flattened images\n",
    "df_scaled_images = pd.DataFrame(flattened_images_scaled)\n",
    "\n",
    "# Add Label (i.e. Category) to the dataframe\n",
    "df_scaled_images['label'] = labels\n",
    "\n",
    "# Save dataframe to CSV locally due to size\n",
    "file_path = r'ENTER_YOUR_FILE_PATH_HERE'\n",
    "df_scaled_images.to_csv(file_path, index=False)"
   ]
  },
  {
   "cell_type": "markdown",
   "metadata": {},
   "source": [
    "# Review normalized images"
   ]
  },
  {
   "cell_type": "code",
   "execution_count": 13,
   "metadata": {},
   "outputs": [
    {
     "data": {
      "text/html": [
       "<div>\n",
       "<style scoped>\n",
       "    .dataframe tbody tr th:only-of-type {\n",
       "        vertical-align: middle;\n",
       "    }\n",
       "\n",
       "    .dataframe tbody tr th {\n",
       "        vertical-align: top;\n",
       "    }\n",
       "\n",
       "    .dataframe thead th {\n",
       "        text-align: right;\n",
       "    }\n",
       "</style>\n",
       "<table border=\"1\" class=\"dataframe\">\n",
       "  <thead>\n",
       "    <tr style=\"text-align: right;\">\n",
       "      <th></th>\n",
       "      <th>0</th>\n",
       "      <th>1</th>\n",
       "      <th>2</th>\n",
       "      <th>3</th>\n",
       "      <th>4</th>\n",
       "      <th>5</th>\n",
       "      <th>6</th>\n",
       "      <th>7</th>\n",
       "      <th>8</th>\n",
       "      <th>9</th>\n",
       "      <th>...</th>\n",
       "      <th>2343</th>\n",
       "      <th>2344</th>\n",
       "      <th>2345</th>\n",
       "      <th>2346</th>\n",
       "      <th>2347</th>\n",
       "      <th>2348</th>\n",
       "      <th>2349</th>\n",
       "      <th>2350</th>\n",
       "      <th>2351</th>\n",
       "      <th>label</th>\n",
       "    </tr>\n",
       "  </thead>\n",
       "  <tbody>\n",
       "    <tr>\n",
       "      <th>0</th>\n",
       "      <td>0.613821</td>\n",
       "      <td>0.582329</td>\n",
       "      <td>0.584677</td>\n",
       "      <td>0.608871</td>\n",
       "      <td>0.575397</td>\n",
       "      <td>0.577689</td>\n",
       "      <td>0.610442</td>\n",
       "      <td>0.577075</td>\n",
       "      <td>0.579365</td>\n",
       "      <td>0.604839</td>\n",
       "      <td>...</td>\n",
       "      <td>0.452756</td>\n",
       "      <td>0.423529</td>\n",
       "      <td>0.438735</td>\n",
       "      <td>0.448819</td>\n",
       "      <td>0.425197</td>\n",
       "      <td>0.434783</td>\n",
       "      <td>0.454902</td>\n",
       "      <td>0.431373</td>\n",
       "      <td>0.440945</td>\n",
       "      <td>Tomato_Bacterial_spot</td>\n",
       "    </tr>\n",
       "    <tr>\n",
       "      <th>1</th>\n",
       "      <td>0.491870</td>\n",
       "      <td>0.445783</td>\n",
       "      <td>0.443548</td>\n",
       "      <td>0.483871</td>\n",
       "      <td>0.436508</td>\n",
       "      <td>0.434263</td>\n",
       "      <td>0.489960</td>\n",
       "      <td>0.442688</td>\n",
       "      <td>0.440476</td>\n",
       "      <td>0.500000</td>\n",
       "      <td>...</td>\n",
       "      <td>0.649606</td>\n",
       "      <td>0.639216</td>\n",
       "      <td>0.648221</td>\n",
       "      <td>0.657480</td>\n",
       "      <td>0.649606</td>\n",
       "      <td>0.656126</td>\n",
       "      <td>0.654902</td>\n",
       "      <td>0.647059</td>\n",
       "      <td>0.653543</td>\n",
       "      <td>Tomato_Bacterial_spot</td>\n",
       "    </tr>\n",
       "    <tr>\n",
       "      <th>2</th>\n",
       "      <td>0.479675</td>\n",
       "      <td>0.457831</td>\n",
       "      <td>0.447581</td>\n",
       "      <td>0.479839</td>\n",
       "      <td>0.456349</td>\n",
       "      <td>0.446215</td>\n",
       "      <td>0.469880</td>\n",
       "      <td>0.446640</td>\n",
       "      <td>0.436508</td>\n",
       "      <td>0.471774</td>\n",
       "      <td>...</td>\n",
       "      <td>0.637795</td>\n",
       "      <td>0.643137</td>\n",
       "      <td>0.644269</td>\n",
       "      <td>0.641732</td>\n",
       "      <td>0.645669</td>\n",
       "      <td>0.652174</td>\n",
       "      <td>0.615686</td>\n",
       "      <td>0.619608</td>\n",
       "      <td>0.629921</td>\n",
       "      <td>Tomato_Bacterial_spot</td>\n",
       "    </tr>\n",
       "    <tr>\n",
       "      <th>3</th>\n",
       "      <td>0.650407</td>\n",
       "      <td>0.634538</td>\n",
       "      <td>0.641129</td>\n",
       "      <td>0.649194</td>\n",
       "      <td>0.630952</td>\n",
       "      <td>0.637450</td>\n",
       "      <td>0.634538</td>\n",
       "      <td>0.616601</td>\n",
       "      <td>0.623016</td>\n",
       "      <td>0.625000</td>\n",
       "      <td>...</td>\n",
       "      <td>0.515748</td>\n",
       "      <td>0.498039</td>\n",
       "      <td>0.498024</td>\n",
       "      <td>0.500000</td>\n",
       "      <td>0.484252</td>\n",
       "      <td>0.486166</td>\n",
       "      <td>0.494118</td>\n",
       "      <td>0.478431</td>\n",
       "      <td>0.476378</td>\n",
       "      <td>Tomato_Bacterial_spot</td>\n",
       "    </tr>\n",
       "    <tr>\n",
       "      <th>4</th>\n",
       "      <td>0.682927</td>\n",
       "      <td>0.650602</td>\n",
       "      <td>0.653226</td>\n",
       "      <td>0.673387</td>\n",
       "      <td>0.638889</td>\n",
       "      <td>0.645418</td>\n",
       "      <td>0.670683</td>\n",
       "      <td>0.636364</td>\n",
       "      <td>0.646825</td>\n",
       "      <td>0.669355</td>\n",
       "      <td>...</td>\n",
       "      <td>0.456693</td>\n",
       "      <td>0.400000</td>\n",
       "      <td>0.403162</td>\n",
       "      <td>0.444882</td>\n",
       "      <td>0.393701</td>\n",
       "      <td>0.395257</td>\n",
       "      <td>0.458824</td>\n",
       "      <td>0.411765</td>\n",
       "      <td>0.413386</td>\n",
       "      <td>Tomato_Bacterial_spot</td>\n",
       "    </tr>\n",
       "  </tbody>\n",
       "</table>\n",
       "<p>5 rows × 2353 columns</p>\n",
       "</div>"
      ],
      "text/plain": [
       "          0         1         2         3         4         5         6  \\\n",
       "0  0.613821  0.582329  0.584677  0.608871  0.575397  0.577689  0.610442   \n",
       "1  0.491870  0.445783  0.443548  0.483871  0.436508  0.434263  0.489960   \n",
       "2  0.479675  0.457831  0.447581  0.479839  0.456349  0.446215  0.469880   \n",
       "3  0.650407  0.634538  0.641129  0.649194  0.630952  0.637450  0.634538   \n",
       "4  0.682927  0.650602  0.653226  0.673387  0.638889  0.645418  0.670683   \n",
       "\n",
       "          7         8         9  ...      2343      2344      2345      2346  \\\n",
       "0  0.577075  0.579365  0.604839  ...  0.452756  0.423529  0.438735  0.448819   \n",
       "1  0.442688  0.440476  0.500000  ...  0.649606  0.639216  0.648221  0.657480   \n",
       "2  0.446640  0.436508  0.471774  ...  0.637795  0.643137  0.644269  0.641732   \n",
       "3  0.616601  0.623016  0.625000  ...  0.515748  0.498039  0.498024  0.500000   \n",
       "4  0.636364  0.646825  0.669355  ...  0.456693  0.400000  0.403162  0.444882   \n",
       "\n",
       "       2347      2348      2349      2350      2351                  label  \n",
       "0  0.425197  0.434783  0.454902  0.431373  0.440945  Tomato_Bacterial_spot  \n",
       "1  0.649606  0.656126  0.654902  0.647059  0.653543  Tomato_Bacterial_spot  \n",
       "2  0.645669  0.652174  0.615686  0.619608  0.629921  Tomato_Bacterial_spot  \n",
       "3  0.484252  0.486166  0.494118  0.478431  0.476378  Tomato_Bacterial_spot  \n",
       "4  0.393701  0.395257  0.458824  0.411765  0.413386  Tomato_Bacterial_spot  \n",
       "\n",
       "[5 rows x 2353 columns]"
      ]
     },
     "execution_count": 13,
     "metadata": {},
     "output_type": "execute_result"
    }
   ],
   "source": [
    "# Review the dataframe\n",
    "df_scaled_images.head(5)"
   ]
  },
  {
   "cell_type": "code",
   "execution_count": 14,
   "metadata": {},
   "outputs": [
    {
     "data": {
      "text/plain": [
       "(32022, 2353)"
      ]
     },
     "execution_count": 14,
     "metadata": {},
     "output_type": "execute_result"
    }
   ],
   "source": [
    "# Review the shape of the images\n",
    "df_scaled_images.shape"
   ]
  },
  {
   "cell_type": "code",
   "execution_count": 15,
   "metadata": {},
   "outputs": [
    {
     "data": {
      "text/plain": [
       "['Tomato_Bacterial_spot',\n",
       " 'Tomato_Early_blight',\n",
       " 'Tomato_healthy',\n",
       " 'Tomato_Late_blight',\n",
       " 'Tomato_Leaf_Mold',\n",
       " 'Tomato_Septoria_leaf_spot',\n",
       " 'Tomato_Spider_mites_Two_spotted_spider_mite',\n",
       " 'Tomato__Target_Spot',\n",
       " 'Tomato__Tomato_mosaic_virus',\n",
       " 'Tomato__Tomato_YellowLeaf__Curl_Virus']"
      ]
     },
     "execution_count": 15,
     "metadata": {},
     "output_type": "execute_result"
    }
   ],
   "source": [
    "# Review unique labels\n",
    "df_scaled_images['label'].unique().tolist()"
   ]
  },
  {
   "cell_type": "code",
   "execution_count": 16,
   "metadata": {},
   "outputs": [
    {
     "data": {
      "text/plain": [
       "label\n",
       "Tomato__Tomato_mosaic_virus                     746\n",
       "Tomato_Leaf_Mold                               1904\n",
       "Tomato_Early_blight                            2000\n",
       "Tomato__Target_Spot                            2808\n",
       "Tomato_healthy                                 3182\n",
       "Tomato_Spider_mites_Two_spotted_spider_mite    3352\n",
       "Tomato_Septoria_leaf_spot                      3542\n",
       "Tomato_Late_blight                             3818\n",
       "Tomato_Bacterial_spot                          4254\n",
       "Tomato__Tomato_YellowLeaf__Curl_Virus          6416\n",
       "Name: count, dtype: int64"
      ]
     },
     "execution_count": 16,
     "metadata": {},
     "output_type": "execute_result"
    }
   ],
   "source": [
    "label_count = df_scaled_images['label'].value_counts().sort_values(ascending=True)\n",
    "label_count"
   ]
  },
  {
   "cell_type": "markdown",
   "metadata": {},
   "source": [
    "# Visualize images by disease"
   ]
  },
  {
   "cell_type": "code",
   "execution_count": 17,
   "metadata": {},
   "outputs": [
    {
     "data": {
      "image/png": "[encoded data removed]",
      "text/plain": [
       "<Figure size 640x480 with 1 Axes>"
      ]
     },
     "metadata": {},
     "output_type": "display_data"
    }
   ],
   "source": [
    "import matplotlib.pyplot as plt\n",
    "label_count.plot(kind='barh', color='green')\n",
    "plt.title('Images Accessed by Disease')\n",
    "plt.xlabel('Image Count')\n",
    "plt.ylabel('Disease')\n",
    "plt.savefig('..\\Output\\images_accessed_by_disease.png',  dpi=300, bbox_inches='tight')\n",
    "plt.show()"
   ]
  },
  {
   "cell_type": "code",
   "execution_count": null,
   "metadata": {},
   "outputs": [],
   "source": []
  }
 ],
 "metadata": {
  "anaconda-cloud": {},
  "celltoolbar": "Slideshow",
  "colab": {
   "provenance": []
  },
  "kernelspec": {
   "display_name": "Python 3 (ipykernel)",
   "language": "python",
   "name": "python3"
  },
  "language_info": {
   "codemirror_mode": {
    "name": "ipython",
    "version": 3
   },
   "file_extension": ".py",
   "mimetype": "text/x-python",
   "name": "python",
   "nbconvert_exporter": "python",
   "pygments_lexer": "ipython3",
   "version": "3.10.13"
  },
  "varInspector": {
   "cols": {
    "lenName": 16,
    "lenType": 16,
    "lenVar": 40
   },
   "kernels_config": {
    "python": {
     "delete_cmd_postfix": "",
     "delete_cmd_prefix": "del ",
     "library": "var_list.py",
     "varRefreshCmd": "print(var_dic_list())"
    },
    "r": {
     "delete_cmd_postfix": ") ",
     "delete_cmd_prefix": "rm(",
     "library": "var_list.r",
     "varRefreshCmd": "cat(var_dic_list()) "
    }
   },
   "types_to_exclude": [
    "module",
    "function",
    "builtin_function_or_method",
    "instance",
    "_Feature"
   ],
   "window_display": false
  },
  "vscode": {
   "interpreter": {
    "hash": "31f2aee4e71d21fbe5cf8b01ff0e069b9275f58929596ceb00d14d90e3e16cd6"
   }
  }
 },
 "nbformat": 4,
 "nbformat_minor": 4
}
