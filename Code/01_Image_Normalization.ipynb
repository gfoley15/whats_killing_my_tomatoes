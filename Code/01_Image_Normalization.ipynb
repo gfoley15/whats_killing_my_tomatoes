{
 "cells": [
  {
   "cell_type": "markdown",
   "metadata": {
    "id": "wzLRP0o1Sicr"
   },
   "source": [
    "## Dependencies"
   ]
  },
  {
   "cell_type": "code",
   "execution_count": 25,
   "metadata": {
    "id": "3xTz0eNcSicu"
   },
   "outputs": [],
   "source": [
    "# Filepaths, Python Imaging,, numpy and panas \n",
    "import os\n",
    "from PIL import Image\n",
    "import numpy as np\n",
    "import pandas as pd"
   ]
  },
  {
   "cell_type": "code",
   "execution_count": 2,
   "metadata": {},
   "outputs": [],
   "source": [
    "# Sklearn scaling\n",
    "from sklearn.preprocessing import MinMaxScaler"
   ]
  },
  {
   "cell_type": "markdown",
   "metadata": {},
   "source": [
    "### Load the Plant Disease dataset from local desktop"
   ]
  },
  {
   "cell_type": "code",
   "execution_count": 3,
   "metadata": {},
   "outputs": [],
   "source": [
    "base_dir = r'ENTER YOUR FILE PATH HERE'"
   ]
  },
  {
   "cell_type": "code",
   "execution_count": 15,
   "metadata": {},
   "outputs": [],
   "source": [
    "# TESTING: Initial for loop developed to pull 1500 images from healthy and 175 from all others for even split of healthy vs unhealthy logistic regression\n",
    "# def load_images_from_subfolders(base_folder):\n",
    "#    images = []\n",
    "#    labels = []\n",
    "#    max_images_healthy = 1500\n",
    "#    max_images_others = 175\n",
    "\n",
    "#    for root, dirs, files in os.walk(base_folder):\n",
    "#        folder_name = os.path.basename(root)\n",
    "#        if folder_name.startswith(\"Tomato_\"):\n",
    "#            image_count = 0 \n",
    "#            if folder_name == \"Tomato_healthy\":\n",
    "#               max_images = max_images_healthy\n",
    "#            else:\n",
    "#                max_images = max_images_others\n",
    "\n",
    "#            for file in files:\n",
    "#                if file.lower().endswith(('.png', '.jpg', '.jpeg')):\n",
    "#                    if image_count >= max_images:\n",
    "#                        break\n",
    "#                    img_path = os.path.join(root, file)\n",
    "#                    print(f\"Loading {img_path}\")\n",
    "#                    try:\n",
    "#                        img = Image.open(img_path).convert('RGB')\n",
    "#                        img = img.resize((28, 28))\n",
    "#                        images.append(np.array(img))\n",
    "#                        labels.append(folder_name) \n",
    "#                        image_count += 1\n",
    "#                    except Exception as e:\n",
    "#                        print(f\"Error loading image {img_path}: {e}\")\n",
    "\n",
    "#    return np.array(images), np.array(labels)\n",
    "\n",
    "#all_images, labels = load_images_from_subfolders(base_dir)\n",
    "#print(f'Total number of images: {all_images.shape[0]}')"
   ]
  },
  {
   "cell_type": "markdown",
   "metadata": {},
   "source": [
    "# Collect all images & preprocessing"
   ]
  },
  {
   "cell_type": "code",
   "execution_count": 46,
   "metadata": {},
   "outputs": [],
   "source": [
    "# Expanding for loop to gather all images from all directories\n",
    "def load_images_from_subfolders(base_folder):\n",
    "    images = []\n",
    "    labels = []\n",
    "\n",
    "    for root, dirs, files in os.walk(base_folder):\n",
    "        folder_name = os.path.basename(root)\n",
    "\n",
    "        for file in files:\n",
    "            if file.lower().endswith(('.png', '.jpg', '.jpeg')):\n",
    "                img_path = os.path.join(root, file)\n",
    "                print(f\"Loading {img_path}\")\n",
    "                try:\n",
    "                   img = Image.open(img_path).convert('RGB')\n",
    "                    img = img.resize((28, 28))\n",
    "                    images.append(np.array(img))\n",
    "                    labels.append(folder_name) \n",
    "                except Exception as e:\n",
    "                    print(f\"Error loading image {img_path}: {e}\")\n",
    "\n",
    "    return np.array(images), np.array(labels)\n",
    "\n",
    "all_images, labels = load_images_from_subfolders(base_dir)\n",
    "print(f'Total number of images: {all_images.shape[0]}')"
   ]
  },
  {
   "cell_type": "code",
   "execution_count": 5,
   "metadata": {},
   "outputs": [],
   "source": [
    "# Normalizing all images using fit_transform\n",
    "n_samples, height, width, n_channels = all_images.shape\n",
    "flattened_images = all_images.reshape((n_samples, -1))\n",
    "\n",
    "scaler = MinMaxScaler()\n",
    "flattened_images_scaled = scaler.fit_transform(flattened_images)\n",
    "\n",
    "# Create dataframe from scaled and flattened images\n",
    "df_scaled_images = pd.DataFrame(flattened_images_scaled)\n",
    "\n",
    "# Add Label (i.e. Category) to the dataframe\n",
    "df_scaled_images['label'] = labels\n",
    "\n",
    "# Save dataframe to CSV locally due to size\n",
    "file_path = r'ENTER YOUR FILE PATH HERE'\n",
    "df_scaled_images.to_csv(file_path, index=False)"
   ]
  },
  {
   "cell_type": "markdown",
   "metadata": {},
   "source": [
    "# Review normalized images"
   ]
  },
  {
   "cell_type": "code",
   "execution_count": 14,
   "metadata": {},
   "outputs": [
    {
     "data": {
      "text/html": [
       "<div>\n",
       "<style scoped>\n",
       "    .dataframe tbody tr th:only-of-type {\n",
       "        vertical-align: middle;\n",
       "    }\n",
       "\n",
       "    .dataframe tbody tr th {\n",
       "        vertical-align: top;\n",
       "    }\n",
       "\n",
       "    .dataframe thead th {\n",
       "        text-align: right;\n",
       "    }\n",
       "</style>\n",
       "<table border=\"1\" class=\"dataframe\">\n",
       "  <thead>\n",
       "    <tr style=\"text-align: right;\">\n",
       "      <th></th>\n",
       "      <th>0</th>\n",
       "      <th>1</th>\n",
       "      <th>2</th>\n",
       "      <th>3</th>\n",
       "      <th>4</th>\n",
       "      <th>5</th>\n",
       "      <th>6</th>\n",
       "      <th>7</th>\n",
       "      <th>8</th>\n",
       "      <th>9</th>\n",
       "      <th>...</th>\n",
       "      <th>2343</th>\n",
       "      <th>2344</th>\n",
       "      <th>2345</th>\n",
       "      <th>2346</th>\n",
       "      <th>2347</th>\n",
       "      <th>2348</th>\n",
       "      <th>2349</th>\n",
       "      <th>2350</th>\n",
       "      <th>2351</th>\n",
       "      <th>label</th>\n",
       "    </tr>\n",
       "  </thead>\n",
       "  <tbody>\n",
       "    <tr>\n",
       "      <th>0</th>\n",
       "      <td>0.500000</td>\n",
       "      <td>0.440945</td>\n",
       "      <td>0.452756</td>\n",
       "      <td>0.507874</td>\n",
       "      <td>0.448819</td>\n",
       "      <td>0.460630</td>\n",
       "      <td>0.517647</td>\n",
       "      <td>0.458824</td>\n",
       "      <td>0.470588</td>\n",
       "      <td>0.513725</td>\n",
       "      <td>...</td>\n",
       "      <td>0.637795</td>\n",
       "      <td>0.592157</td>\n",
       "      <td>0.628458</td>\n",
       "      <td>0.633858</td>\n",
       "      <td>0.586614</td>\n",
       "      <td>0.624506</td>\n",
       "      <td>0.647059</td>\n",
       "      <td>0.596078</td>\n",
       "      <td>0.633858</td>\n",
       "      <td>Pepper__bell___Bacterial_spot</td>\n",
       "    </tr>\n",
       "    <tr>\n",
       "      <th>1</th>\n",
       "      <td>0.555118</td>\n",
       "      <td>0.500000</td>\n",
       "      <td>0.586614</td>\n",
       "      <td>0.566929</td>\n",
       "      <td>0.511811</td>\n",
       "      <td>0.598425</td>\n",
       "      <td>0.568627</td>\n",
       "      <td>0.513725</td>\n",
       "      <td>0.611765</td>\n",
       "      <td>0.576471</td>\n",
       "      <td>...</td>\n",
       "      <td>0.555118</td>\n",
       "      <td>0.486275</td>\n",
       "      <td>0.565217</td>\n",
       "      <td>0.559055</td>\n",
       "      <td>0.496063</td>\n",
       "      <td>0.581028</td>\n",
       "      <td>0.560784</td>\n",
       "      <td>0.501961</td>\n",
       "      <td>0.590551</td>\n",
       "      <td>Pepper__bell___Bacterial_spot</td>\n",
       "    </tr>\n",
       "    <tr>\n",
       "      <th>2</th>\n",
       "      <td>0.200787</td>\n",
       "      <td>0.177165</td>\n",
       "      <td>0.224409</td>\n",
       "      <td>0.035433</td>\n",
       "      <td>0.043307</td>\n",
       "      <td>0.043307</td>\n",
       "      <td>0.274510</td>\n",
       "      <td>0.247059</td>\n",
       "      <td>0.227451</td>\n",
       "      <td>0.552941</td>\n",
       "      <td>...</td>\n",
       "      <td>0.767717</td>\n",
       "      <td>0.729412</td>\n",
       "      <td>0.802372</td>\n",
       "      <td>0.771654</td>\n",
       "      <td>0.736220</td>\n",
       "      <td>0.806324</td>\n",
       "      <td>0.776471</td>\n",
       "      <td>0.741176</td>\n",
       "      <td>0.811024</td>\n",
       "      <td>Pepper__bell___Bacterial_spot</td>\n",
       "    </tr>\n",
       "    <tr>\n",
       "      <th>3</th>\n",
       "      <td>0.027559</td>\n",
       "      <td>0.023622</td>\n",
       "      <td>0.043307</td>\n",
       "      <td>0.267717</td>\n",
       "      <td>0.228346</td>\n",
       "      <td>0.291339</td>\n",
       "      <td>0.415686</td>\n",
       "      <td>0.349020</td>\n",
       "      <td>0.423529</td>\n",
       "      <td>0.509804</td>\n",
       "      <td>...</td>\n",
       "      <td>0.653543</td>\n",
       "      <td>0.592157</td>\n",
       "      <td>0.687747</td>\n",
       "      <td>0.622047</td>\n",
       "      <td>0.566929</td>\n",
       "      <td>0.660079</td>\n",
       "      <td>0.627451</td>\n",
       "      <td>0.572549</td>\n",
       "      <td>0.665354</td>\n",
       "      <td>Pepper__bell___Bacterial_spot</td>\n",
       "    </tr>\n",
       "    <tr>\n",
       "      <th>4</th>\n",
       "      <td>0.688976</td>\n",
       "      <td>0.649606</td>\n",
       "      <td>0.653543</td>\n",
       "      <td>0.700787</td>\n",
       "      <td>0.661417</td>\n",
       "      <td>0.665354</td>\n",
       "      <td>0.666667</td>\n",
       "      <td>0.619608</td>\n",
       "      <td>0.627451</td>\n",
       "      <td>0.666667</td>\n",
       "      <td>...</td>\n",
       "      <td>0.480315</td>\n",
       "      <td>0.419608</td>\n",
       "      <td>0.434783</td>\n",
       "      <td>0.488189</td>\n",
       "      <td>0.429134</td>\n",
       "      <td>0.442688</td>\n",
       "      <td>0.466667</td>\n",
       "      <td>0.407843</td>\n",
       "      <td>0.421260</td>\n",
       "      <td>Pepper__bell___Bacterial_spot</td>\n",
       "    </tr>\n",
       "  </tbody>\n",
       "</table>\n",
       "<p>5 rows × 2353 columns</p>\n",
       "</div>"
      ],
      "text/plain": [
       "          0         1         2         3         4         5         6  \\\n",
       "0  0.500000  0.440945  0.452756  0.507874  0.448819  0.460630  0.517647   \n",
       "1  0.555118  0.500000  0.586614  0.566929  0.511811  0.598425  0.568627   \n",
       "2  0.200787  0.177165  0.224409  0.035433  0.043307  0.043307  0.274510   \n",
       "3  0.027559  0.023622  0.043307  0.267717  0.228346  0.291339  0.415686   \n",
       "4  0.688976  0.649606  0.653543  0.700787  0.661417  0.665354  0.666667   \n",
       "\n",
       "          7         8         9  ...      2343      2344      2345      2346  \\\n",
       "0  0.458824  0.470588  0.513725  ...  0.637795  0.592157  0.628458  0.633858   \n",
       "1  0.513725  0.611765  0.576471  ...  0.555118  0.486275  0.565217  0.559055   \n",
       "2  0.247059  0.227451  0.552941  ...  0.767717  0.729412  0.802372  0.771654   \n",
       "3  0.349020  0.423529  0.509804  ...  0.653543  0.592157  0.687747  0.622047   \n",
       "4  0.619608  0.627451  0.666667  ...  0.480315  0.419608  0.434783  0.488189   \n",
       "\n",
       "       2347      2348      2349      2350      2351  \\\n",
       "0  0.586614  0.624506  0.647059  0.596078  0.633858   \n",
       "1  0.496063  0.581028  0.560784  0.501961  0.590551   \n",
       "2  0.736220  0.806324  0.776471  0.741176  0.811024   \n",
       "3  0.566929  0.660079  0.627451  0.572549  0.665354   \n",
       "4  0.429134  0.442688  0.466667  0.407843  0.421260   \n",
       "\n",
       "                           label  \n",
       "0  Pepper__bell___Bacterial_spot  \n",
       "1  Pepper__bell___Bacterial_spot  \n",
       "2  Pepper__bell___Bacterial_spot  \n",
       "3  Pepper__bell___Bacterial_spot  \n",
       "4  Pepper__bell___Bacterial_spot  \n",
       "\n",
       "[5 rows x 2353 columns]"
      ]
     },
     "execution_count": 14,
     "metadata": {},
     "output_type": "execute_result"
    }
   ],
   "source": [
    "# Review the dataframe\n",
    "df_scaled_images.head(5)"
   ]
  },
  {
   "cell_type": "code",
   "execution_count": 12,
   "metadata": {},
   "outputs": [
    {
     "data": {
      "text/plain": [
       "(41276, 2353)"
      ]
     },
     "execution_count": 12,
     "metadata": {},
     "output_type": "execute_result"
    }
   ],
   "source": [
    "# Review the shape of the images\n",
    "df_scaled_images.shape"
   ]
  },
  {
   "cell_type": "code",
   "execution_count": 13,
   "metadata": {},
   "outputs": [
    {
     "data": {
      "text/plain": [
       "['Pepper__bell___Bacterial_spot',\n",
       " 'Pepper__bell___healthy',\n",
       " 'Potato___Early_blight',\n",
       " 'Potato___healthy',\n",
       " 'Potato___Late_blight',\n",
       " 'Tomato_Bacterial_spot',\n",
       " 'Tomato_Early_blight',\n",
       " 'Tomato_healthy',\n",
       " 'Tomato_Late_blight',\n",
       " 'Tomato_Leaf_Mold',\n",
       " 'Tomato_Septoria_leaf_spot',\n",
       " 'Tomato_Spider_mites_Two_spotted_spider_mite',\n",
       " 'Tomato__Target_Spot',\n",
       " 'Tomato__Tomato_mosaic_virus',\n",
       " 'Tomato__Tomato_YellowLeaf__Curl_Virus']"
      ]
     },
     "execution_count": 13,
     "metadata": {},
     "output_type": "execute_result"
    }
   ],
   "source": [
    "# Review unique labels\n",
    "df_scaled_images['label'].unique().tolist()"
   ]
  },
  {
   "cell_type": "code",
   "execution_count": 38,
   "metadata": {},
   "outputs": [
    {
     "data": {
      "text/plain": [
       "label\n",
       "Potato___healthy                                304\n",
       "Tomato__Tomato_mosaic_virus                     746\n",
       "Tomato_Leaf_Mold                               1904\n",
       "Pepper__bell___Bacterial_spot                  1994\n",
       "Potato___Early_blight                          2000\n",
       "Potato___Late_blight                           2000\n",
       "Tomato_Early_blight                            2000\n",
       "Tomato__Target_Spot                            2808\n",
       "Pepper__bell___healthy                         2956\n",
       "Tomato_healthy                                 3182\n",
       "Tomato_Spider_mites_Two_spotted_spider_mite    3352\n",
       "Tomato_Septoria_leaf_spot                      3542\n",
       "Tomato_Late_blight                             3818\n",
       "Tomato_Bacterial_spot                          4254\n",
       "Tomato__Tomato_YellowLeaf__Curl_Virus          6416\n",
       "Name: count, dtype: int64"
      ]
     },
     "execution_count": 38,
     "metadata": {},
     "output_type": "execute_result"
    }
   ],
   "source": [
    "label_count = df_scaled_images['label'].value_counts().sort_values(ascending=True)\n",
    "label_count"
   ]
  },
  {
   "cell_type": "markdown",
   "metadata": {},
   "source": [
    "# Visualize images by disease"
   ]
  },
  {
   "cell_type": "code",
   "execution_count": 45,
   "metadata": {},
   "outputs": [
    {
     "data": {
      "image/png": "[encoded data removed]",
      "text/plain": [
       "<Figure size 640x480 with 1 Axes>"
      ]
     },
     "metadata": {},
     "output_type": "display_data"
    }
   ],
   "source": [
    "import matplotlib.pyplot as plt\n",
    "label_count.plot(kind='barh', color='green')\n",
    "plt.title('Images Accessed by Disease')\n",
    "plt.xlabel('Image Count')\n",
    "plt.ylabel('Disease')\n",
    "plt.savefig('..\\Output\\images_accessed_by_disease.png',  dpi=300, bbox_inches='tight')\n",
    "plt.show()"
   ]
  },
  {
   "cell_type": "code",
   "execution_count": null,
   "metadata": {},
   "outputs": [],
   "source": []
  }
 ],
 "metadata": {
  "anaconda-cloud": {},
  "celltoolbar": "Slideshow",
  "colab": {
   "provenance": []
  },
  "kernelspec": {
   "display_name": "Python 3 (ipykernel)",
   "language": "python",
   "name": "python3"
  },
  "language_info": {
   "codemirror_mode": {
    "name": "ipython",
    "version": 3
   },
   "file_extension": ".py",
   "mimetype": "text/x-python",
   "name": "python",
   "nbconvert_exporter": "python",
   "pygments_lexer": "ipython3",
   "version": "3.10.13"
  },
  "varInspector": {
   "cols": {
    "lenName": 16,
    "lenType": 16,
    "lenVar": 40
   },
   "kernels_config": {
    "python": {
     "delete_cmd_postfix": "",
     "delete_cmd_prefix": "del ",
     "library": "var_list.py",
     "varRefreshCmd": "print(var_dic_list())"
    },
    "r": {
     "delete_cmd_postfix": ") ",
     "delete_cmd_prefix": "rm(",
     "library": "var_list.r",
     "varRefreshCmd": "cat(var_dic_list()) "
    }
   },
   "types_to_exclude": [
    "module",
    "function",
    "builtin_function_or_method",
    "instance",
    "_Feature"
   ],
   "window_display": false
  },
  "vscode": {
   "interpreter": {
    "hash": "31f2aee4e71d21fbe5cf8b01ff0e069b9275f58929596ceb00d14d90e3e16cd6"
   }
  }
 },
 "nbformat": 4,
 "nbformat_minor": 4
}
